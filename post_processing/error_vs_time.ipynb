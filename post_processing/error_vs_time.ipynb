{
 "cells": [
  {
   "cell_type": "code",
   "execution_count": 126,
   "id": "368a9386",
   "metadata": {},
   "outputs": [],
   "source": [
    "import pandas as pd\n",
    "import numpy as np\n",
    "import matplotlib.pyplot as plt\n",
    "import seaborn as sns\n",
    "from sklearn.metrics import mean_absolute_error \n",
    "from sklearn.metrics import mean_squared_error\n",
    "from metrics import mae, rmse, nse, kge"
   ]
  },
  {
   "cell_type": "code",
   "execution_count": 127,
   "id": "6c073c73",
   "metadata": {
    "scrolled": true
   },
   "outputs": [
    {
     "name": "stdout",
     "output_type": "stream",
     "text": [
      "(19249, 96)\n",
      "(17521, 96)\n"
     ]
    }
   ],
   "source": [
    "true_to_seires = pd.read_csv('../output/inv_y_xgboost.csv', index_col=0)\n",
    "print(true_to_seires.shape)\n",
    "\n",
    "true_to_seires = true_to_seires.iloc[-17521:, :]\n",
    "print(true_to_seires.shape)"
   ]
  },
  {
   "cell_type": "code",
   "execution_count": 128,
   "id": "fa4973c5",
   "metadata": {},
   "outputs": [],
   "source": [
    "# sum(true_to_seires.values - true_to_seires2.values)"
   ]
  },
  {
   "cell_type": "code",
   "execution_count": 194,
   "id": "3b16917e",
   "metadata": {},
   "outputs": [],
   "source": [
    "xgb_raw = pd.read_csv('../output/inv_yhat_xgboost.csv', index_col=0)\n",
    "lr_raw = pd.read_csv('../output/inv_yhat_lr.csv', index_col=0)\n",
    "mlp_raw = pd.read_csv('../output/inv_yhat_mlp.csv', index_col=0)\n",
    "rnn_raw = pd.read_csv('../output/inv_yhat_rnn.csv', index_col=0)\n",
    "lstm_raw = pd.read_csv('../output/inv_yhat_lstm.csv', index_col=0)\n",
    "conv_mlp_raw = pd.read_csv('../output/inv_yhat_cnn.csv', index_col=0)\n",
    "conv_rnn_raw = pd.read_csv('../output/inv_yhat_rcnn.csv', index_col=0)"
   ]
  },
  {
   "cell_type": "code",
   "execution_count": 195,
   "id": "62b81577",
   "metadata": {},
   "outputs": [
    {
     "name": "stdout",
     "output_type": "stream",
     "text": [
      "(19249, 96) (19249, 96) (19249, 96) (19249, 96) (19249, 96) (19249, 96) (19249, 96) (17519, 9)\n"
     ]
    }
   ],
   "source": [
    "print(xgb_raw.shape, lr_raw.shape, mlp_raw.shape, \n",
    "      rnn_raw.shape, lstm_raw.shape, conv_mlp_raw.shape, conv_rnn_raw.shape\n",
    "     )"
   ]
  },
  {
   "cell_type": "code",
   "execution_count": 131,
   "id": "27bf8ee2",
   "metadata": {},
   "outputs": [],
   "source": [
    "xgb = xgb_raw.iloc[-17521:, :]\n",
    "lr = lr_raw.iloc[-17521:, :]\n",
    "mlp = mlp_raw.iloc[-17521:, :]\n",
    "rnn = rnn_raw.iloc[-17521:, :]\n",
    "lstm = lstm_raw.iloc[-17521:, :]\n",
    "conv_mlp = conv_mlp_raw.iloc[-17521:, :]\n",
    "conv_rnn = conv_rnn_raw.iloc[-17521:, :]"
   ]
  },
  {
   "cell_type": "code",
   "execution_count": 132,
   "id": "9cc1dc75",
   "metadata": {},
   "outputs": [
    {
     "name": "stdout",
     "output_type": "stream",
     "text": [
      "(17521, 96)\n",
      "(17521, 96)\n",
      "(17521, 96)\n",
      "(17521, 96)\n",
      "(17521, 96)\n",
      "(17521, 96)\n",
      "(17521, 96)\n"
     ]
    }
   ],
   "source": [
    "print(xgb.shape)\n",
    "print(lr.shape)\n",
    "print(mlp.shape)\n",
    "print(rnn.shape)\n",
    "print(lstm.shape)\n",
    "print(conv_mlp.shape)\n",
    "print(conv_rnn.shape)"
   ]
  },
  {
   "cell_type": "markdown",
   "id": "16391720",
   "metadata": {},
   "source": [
    "## MAE, RMSE, NSE, KDE vs. prediction length"
   ]
  },
  {
   "cell_type": "code",
   "execution_count": 207,
   "id": "71b8b298",
   "metadata": {},
   "outputs": [],
   "source": [
    "# select_metric = mae\n",
    "# select_metric = rmse\n",
    "# select_metric = nse\n",
    "select_metric = kge"
   ]
  },
  {
   "cell_type": "code",
   "execution_count": 208,
   "id": "3a96497f",
   "metadata": {},
   "outputs": [
    {
     "name": "stdout",
     "output_type": "stream",
     "text": [
      "0.830\n",
      "0.841\n",
      "0.882\n",
      "0.959\n",
      "0.923\n",
      "0.924\n",
      "0.933\n"
     ]
    }
   ],
   "source": [
    "### t+1\n",
    "\n",
    "print(f'{select_metric(true_to_seires.iloc[:, 0:4], xgb.iloc[:, 0:4]):.3f}')\n",
    "print(f'{select_metric(true_to_seires.iloc[:, 0:4], lr.iloc[:, 0:4]):.3f}')\n",
    "print(f'{select_metric(true_to_seires.iloc[:, 0:4], mlp.iloc[:, 0:4]):.3f}')\n",
    "print(f'{select_metric(true_to_seires.iloc[:, 0:4], rnn.iloc[:, 0:4]):.3f}')\n",
    "print(f'{select_metric(true_to_seires.iloc[:, 0:4], lstm.iloc[:, 0:4]):.3f}')\n",
    "print(f'{select_metric(true_to_seires.iloc[:, 0:4], conv_mlp.iloc[:, 0:4]):.3f}')\n",
    "print(f'{select_metric(true_to_seires.iloc[:, 0:4], conv_rnn.iloc[:, 0:4]):.3f}')"
   ]
  },
  {
   "cell_type": "code",
   "execution_count": 209,
   "id": "0b04fc68",
   "metadata": {},
   "outputs": [
    {
     "name": "stdout",
     "output_type": "stream",
     "text": [
      "0.822\n",
      "0.770\n",
      "0.880\n",
      "0.952\n",
      "0.896\n",
      "0.899\n",
      "0.936\n"
     ]
    }
   ],
   "source": [
    "### t+8\n",
    "\n",
    "print(f'{select_metric(true_to_seires.iloc[:, 28:32], xgb.iloc[:, 28:32]):.3f}')\n",
    "print(f'{select_metric(true_to_seires.iloc[:, 28:32], lr.iloc[:, 28:32]):.3f}')\n",
    "print(f'{select_metric(true_to_seires.iloc[:, 28:32], mlp.iloc[:, 28:32]):.3f}')\n",
    "print(f'{select_metric(true_to_seires.iloc[:, 28:32], rnn.iloc[:, 28:32]):.3f}')\n",
    "print(f'{select_metric(true_to_seires.iloc[:, 28:32], lstm.iloc[:, 28:32]):.3f}')\n",
    "print(f'{select_metric(true_to_seires.iloc[:, 28:32], conv_mlp.iloc[:, 28:32]):.3f}')\n",
    "print(f'{select_metric(true_to_seires.iloc[:, 28:32], conv_rnn.iloc[:, 28:32]):.3f}')"
   ]
  },
  {
   "cell_type": "code",
   "execution_count": 210,
   "id": "a93f9a9e",
   "metadata": {},
   "outputs": [
    {
     "name": "stdout",
     "output_type": "stream",
     "text": [
      "0.820\n",
      "0.710\n",
      "0.893\n",
      "0.890\n",
      "0.886\n",
      "0.914\n",
      "0.931\n"
     ]
    }
   ],
   "source": [
    "### t+16\n",
    "\n",
    "print(f'{select_metric(true_to_seires.iloc[:, 60:64], xgb.iloc[:, 60:64]):.3f}')\n",
    "print(f'{select_metric(true_to_seires.iloc[:, 60:64], lr.iloc[:, 60:64]):.3f}')\n",
    "print(f'{select_metric(true_to_seires.iloc[:, 60:64], mlp.iloc[:, 60:64]):.3f}')\n",
    "print(f'{select_metric(true_to_seires.iloc[:, 60:64], rnn.iloc[:, 60:64]):.3f}')\n",
    "print(f'{select_metric(true_to_seires.iloc[:, 60:64], lstm.iloc[:, 60:64]):.3f}')\n",
    "print(f'{select_metric(true_to_seires.iloc[:, 60:64], conv_mlp.iloc[:, 60:64]):.3f}')\n",
    "print(f'{select_metric(true_to_seires.iloc[:, 60:64], conv_rnn.iloc[:, 60:64]):.3f}')"
   ]
  },
  {
   "cell_type": "code",
   "execution_count": 211,
   "id": "ff5be4c6",
   "metadata": {},
   "outputs": [
    {
     "name": "stdout",
     "output_type": "stream",
     "text": [
      "0.816\n",
      "0.732\n",
      "0.888\n",
      "0.908\n",
      "0.910\n",
      "0.908\n",
      "0.936\n"
     ]
    }
   ],
   "source": [
    "### t+24\n",
    "\n",
    "print(f'{select_metric(true_to_seires.iloc[:, 92:96], xgb.iloc[:, 92:96]):.3f}')\n",
    "print(f'{select_metric(true_to_seires.iloc[:, 92:96], lr.iloc[:, 92:96]):.3f}')\n",
    "print(f'{select_metric(true_to_seires.iloc[:, 92:96], mlp.iloc[:, 92:96]):.3f}')\n",
    "print(f'{select_metric(true_to_seires.iloc[:, 92:96], rnn.iloc[:, 92:96]):.3f}')\n",
    "print(f'{select_metric(true_to_seires.iloc[:, 92:96], lstm.iloc[:, 92:96]):.3f}')\n",
    "print(f'{select_metric(true_to_seires.iloc[:, 92:96], conv_mlp.iloc[:, 92:96]):.3f}')\n",
    "print(f'{select_metric(true_to_seires.iloc[:, 92:96], conv_rnn.iloc[:, 92:96]):.3f}')"
   ]
  },
  {
   "cell_type": "code",
   "execution_count": 212,
   "id": "8d8aec2a",
   "metadata": {},
   "outputs": [
    {
     "name": "stdout",
     "output_type": "stream",
     "text": [
      "0.821\n",
      "0.736\n",
      "0.887\n",
      "0.920\n",
      "0.896\n",
      "0.905\n",
      "0.936\n"
     ]
    }
   ],
   "source": [
    "### all time steps\n",
    "\n",
    "print(f'{select_metric(true_to_seires, xgb):.3f}')\n",
    "print(f'{select_metric(true_to_seires, lr):.3f}')\n",
    "print(f'{select_metric(true_to_seires, mlp):.3f}')\n",
    "print(f'{select_metric(true_to_seires, rnn):.3f}')\n",
    "print(f'{select_metric(true_to_seires, lstm):.3f}')\n",
    "print(f'{select_metric(true_to_seires, conv_mlp):.3f}')\n",
    "print(f'{select_metric(true_to_seires, conv_rnn):.3f}')"
   ]
  },
  {
   "cell_type": "markdown",
   "id": "2ddf6eab",
   "metadata": {},
   "source": [
    "### HEC-RAS"
   ]
  },
  {
   "cell_type": "code",
   "execution_count": 213,
   "id": "e36f9f57",
   "metadata": {},
   "outputs": [
    {
     "data": {
      "text/html": [
       "<div>\n",
       "<style scoped>\n",
       "    .dataframe tbody tr th:only-of-type {\n",
       "        vertical-align: middle;\n",
       "    }\n",
       "\n",
       "    .dataframe tbody tr th {\n",
       "        vertical-align: top;\n",
       "    }\n",
       "\n",
       "    .dataframe thead th {\n",
       "        text-align: right;\n",
       "    }\n",
       "</style>\n",
       "<table border=\"1\" class=\"dataframe\">\n",
       "  <thead>\n",
       "    <tr style=\"text-align: right;\">\n",
       "      <th></th>\n",
       "      <th>S1 OBS</th>\n",
       "      <th>T1 RAS</th>\n",
       "      <th>T2 RAS S1</th>\n",
       "      <th>S25A_TW OBS</th>\n",
       "      <th>T2 RAS S25A</th>\n",
       "      <th>S25B_TW OBS</th>\n",
       "      <th>T2 RAS S25B</th>\n",
       "      <th>S26_TW OBS</th>\n",
       "      <th>RAS S26</th>\n",
       "    </tr>\n",
       "    <tr>\n",
       "      <th>Time</th>\n",
       "      <th></th>\n",
       "      <th></th>\n",
       "      <th></th>\n",
       "      <th></th>\n",
       "      <th></th>\n",
       "      <th></th>\n",
       "      <th></th>\n",
       "      <th></th>\n",
       "      <th></th>\n",
       "    </tr>\n",
       "  </thead>\n",
       "  <tbody>\n",
       "    <tr>\n",
       "      <th>2019-01-01 00:00:00</th>\n",
       "      <td>-0.32</td>\n",
       "      <td>-0.37</td>\n",
       "      <td>-0.54</td>\n",
       "      <td>-0.31</td>\n",
       "      <td>-0.54</td>\n",
       "      <td>-0.28</td>\n",
       "      <td>-0.53</td>\n",
       "      <td>-0.30</td>\n",
       "      <td>-0.54</td>\n",
       "    </tr>\n",
       "    <tr>\n",
       "      <th>2019-01-01 01:00:00</th>\n",
       "      <td>0.17</td>\n",
       "      <td>0.13</td>\n",
       "      <td>-0.05</td>\n",
       "      <td>0.14</td>\n",
       "      <td>-0.05</td>\n",
       "      <td>0.19</td>\n",
       "      <td>-0.05</td>\n",
       "      <td>0.19</td>\n",
       "      <td>-0.05</td>\n",
       "    </tr>\n",
       "    <tr>\n",
       "      <th>2019-01-01 02:00:00</th>\n",
       "      <td>0.80</td>\n",
       "      <td>0.67</td>\n",
       "      <td>0.62</td>\n",
       "      <td>0.76</td>\n",
       "      <td>0.61</td>\n",
       "      <td>0.83</td>\n",
       "      <td>0.63</td>\n",
       "      <td>0.80</td>\n",
       "      <td>0.63</td>\n",
       "    </tr>\n",
       "    <tr>\n",
       "      <th>2019-01-01 03:00:00</th>\n",
       "      <td>1.26</td>\n",
       "      <td>1.18</td>\n",
       "      <td>1.09</td>\n",
       "      <td>1.27</td>\n",
       "      <td>1.10</td>\n",
       "      <td>1.31</td>\n",
       "      <td>1.10</td>\n",
       "      <td>1.28</td>\n",
       "      <td>1.08</td>\n",
       "    </tr>\n",
       "    <tr>\n",
       "      <th>2019-01-01 04:00:00</th>\n",
       "      <td>1.68</td>\n",
       "      <td>1.53</td>\n",
       "      <td>1.51</td>\n",
       "      <td>1.67</td>\n",
       "      <td>1.53</td>\n",
       "      <td>1.70</td>\n",
       "      <td>1.51</td>\n",
       "      <td>1.69</td>\n",
       "      <td>1.52</td>\n",
       "    </tr>\n",
       "  </tbody>\n",
       "</table>\n",
       "</div>"
      ],
      "text/plain": [
       "                     S1 OBS  T1 RAS  T2 RAS S1  S25A_TW OBS  T2 RAS S25A  \\\n",
       "Time                                                                       \n",
       "2019-01-01 00:00:00   -0.32   -0.37      -0.54        -0.31        -0.54   \n",
       "2019-01-01 01:00:00    0.17    0.13      -0.05         0.14        -0.05   \n",
       "2019-01-01 02:00:00    0.80    0.67       0.62         0.76         0.61   \n",
       "2019-01-01 03:00:00    1.26    1.18       1.09         1.27         1.10   \n",
       "2019-01-01 04:00:00    1.68    1.53       1.51         1.67         1.53   \n",
       "\n",
       "                     S25B_TW OBS  T2 RAS S25B  S26_TW OBS  RAS S26  \n",
       "Time                                                                \n",
       "2019-01-01 00:00:00        -0.28        -0.53       -0.30    -0.54  \n",
       "2019-01-01 01:00:00         0.19        -0.05        0.19    -0.05  \n",
       "2019-01-01 02:00:00         0.83         0.63        0.80     0.63  \n",
       "2019-01-01 03:00:00         1.31         1.10        1.28     1.08  \n",
       "2019-01-01 04:00:00         1.70         1.51        1.69     1.52  "
      ]
     },
     "execution_count": 213,
     "metadata": {},
     "output_type": "execute_result"
    }
   ],
   "source": [
    "ras = pd.read_csv('../data/ras_1920.csv', index_col=0)\n",
    "ras.head()"
   ]
  },
  {
   "cell_type": "code",
   "execution_count": 214,
   "id": "e7850a95",
   "metadata": {},
   "outputs": [],
   "source": [
    "ras = hecras[['T2 RAS S1','T2 RAS S25A', 'T2 RAS S25B', 'RAS S26']]\n",
    "obs = hecras[['S1 OBS', 'S25A_TW OBS' , 'S25B_TW OBS', 'S26_TW OBS']]"
   ]
  },
  {
   "cell_type": "code",
   "execution_count": 198,
   "id": "fa384982",
   "metadata": {},
   "outputs": [],
   "source": [
    "ras_np = ras.values\n",
    "obs_np = obs.values"
   ]
  },
  {
   "cell_type": "code",
   "execution_count": 199,
   "id": "82a0f669",
   "metadata": {},
   "outputs": [
    {
     "name": "stdout",
     "output_type": "stream",
     "text": [
      "(17519, 4) (17519, 4)\n"
     ]
    }
   ],
   "source": [
    "print(obs_np.shape, ras_np.shape)"
   ]
  },
  {
   "cell_type": "code",
   "execution_count": 202,
   "id": "fa233472",
   "metadata": {},
   "outputs": [],
   "source": [
    "# select_metric = mae\n",
    "# select_metric = rmse\n",
    "# select_metric = nse\n",
    "# select_metric = kge"
   ]
  },
  {
   "cell_type": "code",
   "execution_count": 205,
   "id": "5e3b0c90",
   "metadata": {},
   "outputs": [
    {
     "name": "stdout",
     "output_type": "stream",
     "text": [
      "HEC-RAS performance:\n",
      "MAE: 0.186\n",
      "RMSE: 0.238\n",
      "NSE: 0.932\n",
      "KGE: 0.950\n"
     ]
    }
   ],
   "source": [
    "print(\"HEC-RAS performance:\")\n",
    "print(f'MAE: {mae(obs_np, ras_np):.3f}')\n",
    "print(f'RMSE: {rmse(obs_np, ras_np):.3f}')\n",
    "print(f'NSE: {nse(obs_np, ras_np):.3f}')\n",
    "print(f'KGE: {kge(obs_np, ras_np):.3f}')"
   ]
  },
  {
   "cell_type": "code",
   "execution_count": null,
   "id": "de295418",
   "metadata": {},
   "outputs": [],
   "source": []
  },
  {
   "cell_type": "code",
   "execution_count": null,
   "id": "13fd654c",
   "metadata": {},
   "outputs": [],
   "source": []
  }
 ],
 "metadata": {
  "kernelspec": {
   "display_name": "Python 3 (ipykernel)",
   "language": "python",
   "name": "python3"
  },
  "language_info": {
   "codemirror_mode": {
    "name": "ipython",
    "version": 3
   },
   "file_extension": ".py",
   "mimetype": "text/x-python",
   "name": "python",
   "nbconvert_exporter": "python",
   "pygments_lexer": "ipython3",
   "version": "3.8.16"
  }
 },
 "nbformat": 4,
 "nbformat_minor": 5
}
