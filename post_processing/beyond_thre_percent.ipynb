{
 "cells": [
  {
   "cell_type": "code",
   "execution_count": 1,
   "id": "368a9386",
   "metadata": {},
   "outputs": [],
   "source": [
    "import pandas as pd\n",
    "import numpy as np\n",
    "import matplotlib.pyplot as plt\n",
    "import seaborn as sns\n",
    "from scipy.stats import mannwhitneyu\n",
    "import numpy as np\n",
    "from helper import p_values, p_values_ras, p_values_wilcoxon, p_values_ras_wilcoxon"
   ]
  },
  {
   "cell_type": "code",
   "execution_count": 2,
   "id": "6c073c73",
   "metadata": {},
   "outputs": [
    {
     "name": "stdout",
     "output_type": "stream",
     "text": [
      "(19249, 96)\n",
      "(17521, 96)\n"
     ]
    }
   ],
   "source": [
    "true_to_seires = pd.read_csv('../output/inv_y_rnn.csv', index_col=0)\n",
    "print(true_to_seires.shape)\n",
    "\n",
    "true_to_seires = true_to_seires.iloc[-17521:, :]\n",
    "print(true_to_seires.shape)"
   ]
  },
  {
   "cell_type": "code",
   "execution_count": 3,
   "id": "fa4973c5",
   "metadata": {},
   "outputs": [],
   "source": [
    "# sum(true_to_seires.values - true_to_seires2.values)"
   ]
  },
  {
   "cell_type": "code",
   "execution_count": 4,
   "id": "3b16917e",
   "metadata": {},
   "outputs": [],
   "source": [
    "lr_raw = pd.read_csv('../output/inv_yhat_lr.csv', index_col=0)\n",
    "mlp_raw = pd.read_csv('../output/inv_yhat_mlp.csv', index_col=0)\n",
    "rnn_raw = pd.read_csv('../output/inv_yhat_rnn.csv', index_col=0)\n",
    "lstm_raw = pd.read_csv('../output/inv_yhat_lstm.csv', index_col=0)\n",
    "conv_mlp_raw = pd.read_csv('../output/inv_yhat_cnn.csv', index_col=0)\n",
    "conv_rnn_raw = pd.read_csv('../output/inv_yhat_rcnn.csv', index_col=0)"
   ]
  },
  {
   "cell_type": "code",
   "execution_count": 5,
   "id": "62b81577",
   "metadata": {},
   "outputs": [
    {
     "name": "stdout",
     "output_type": "stream",
     "text": [
      "(19249, 96) (19249, 96) (19249, 96) (19249, 96) (19249, 96) (19249, 96)\n"
     ]
    }
   ],
   "source": [
    "print(lr_raw.shape, mlp_raw.shape, rnn_raw.shape, lstm_raw.shape, conv_mlp_raw.shape, conv_rnn_raw.shape)"
   ]
  },
  {
   "cell_type": "code",
   "execution_count": 6,
   "id": "27bf8ee2",
   "metadata": {},
   "outputs": [],
   "source": [
    "lr = lr_raw.iloc[-17521:, :]\n",
    "mlp = mlp_raw.iloc[-17521:, :]\n",
    "rnn = rnn_raw.iloc[-17521:, :]\n",
    "lstm = lstm_raw.iloc[-17521:, :]\n",
    "conv_mlp = conv_mlp_raw.iloc[-17521:, :]\n",
    "conv_rnn = conv_rnn_raw.iloc[-17521:, :]"
   ]
  },
  {
   "cell_type": "code",
   "execution_count": 7,
   "id": "9cc1dc75",
   "metadata": {},
   "outputs": [
    {
     "name": "stdout",
     "output_type": "stream",
     "text": [
      "(17521, 96)\n",
      "(17521, 96)\n",
      "(17521, 96)\n",
      "(17521, 96)\n",
      "(17521, 96)\n",
      "(17521, 96)\n"
     ]
    }
   ],
   "source": [
    "print(lr.shape)\n",
    "print(mlp.shape)\n",
    "print(rnn.shape)\n",
    "print(lstm.shape)\n",
    "print(conv_mlp.shape)\n",
    "print(conv_rnn.shape)"
   ]
  },
  {
   "cell_type": "code",
   "execution_count": 8,
   "id": "72f7a7c1",
   "metadata": {},
   "outputs": [],
   "source": [
    "lr_2yrs_error = lr - true_to_seires\n",
    "mlp_2yrs_error = mlp - true_to_seires\n",
    "rnn_2yrs_error = rnn - true_to_seires\n",
    "lstm_2yrs_error = lstm - true_to_seires\n",
    "conv_mlp_2yrs_error = conv_mlp - true_to_seires\n",
    "conv_rnn_2yrs_error = conv_rnn - true_to_seires"
   ]
  },
  {
   "cell_type": "code",
   "execution_count": 9,
   "id": "20d4af9b",
   "metadata": {},
   "outputs": [
    {
     "data": {
      "text/plain": [
       "(105126, 96)"
      ]
     },
     "execution_count": 9,
     "metadata": {},
     "output_type": "execute_result"
    }
   ],
   "source": [
    "dl_errors = np.concatenate([lr_2yrs_error,\n",
    "                            mlp_2yrs_error,\n",
    "                            rnn_2yrs_error,\n",
    "                            lstm_2yrs_error, \n",
    "                            conv_mlp_2yrs_error,\n",
    "                            conv_rnn_2yrs_error\n",
    "                           ], axis=0)\n",
    "dl_errors.shape"
   ]
  },
  {
   "cell_type": "code",
   "execution_count": 14,
   "id": "f5100888",
   "metadata": {},
   "outputs": [
    {
     "data": {
      "text/plain": [
       "0.5217898930000022"
      ]
     },
     "execution_count": 14,
     "metadata": {},
     "output_type": "execute_result"
    }
   ],
   "source": [
    "percentile_99 = np.percentile(dl_errors, 99)\n",
    "percentile_99"
   ]
  },
  {
   "cell_type": "code",
   "execution_count": 15,
   "id": "bd4fa86f",
   "metadata": {},
   "outputs": [
    {
     "data": {
      "text/plain": [
       "-0.5609924200000004"
      ]
     },
     "execution_count": 15,
     "metadata": {},
     "output_type": "execute_result"
    }
   ],
   "source": [
    "percentile_99 = np.percentile(dl_errors, 1)\n",
    "percentile_99"
   ]
  },
  {
   "cell_type": "code",
   "execution_count": 12,
   "id": "13470e18",
   "metadata": {},
   "outputs": [
    {
     "name": "stdout",
     "output_type": "stream",
     "text": [
      "99th Percentile of Daily Rain: 0.4958655750000003\n"
     ]
    }
   ],
   "source": [
    "# percentile_99 = np.percentile(dl_errors, 99)\n",
    "\n",
    "percentile_99 = np.percentile(np.abs(dl_errors), 97)\n",
    "\n",
    "print(\"99th Percentile of Daily Rain:\", percentile_99)"
   ]
  },
  {
   "cell_type": "code",
   "execution_count": 13,
   "id": "cb6b4679",
   "metadata": {},
   "outputs": [
    {
     "name": "stdout",
     "output_type": "stream",
     "text": [
      "99th Percentile of Daily Rain: 0.006125693999999748\n"
     ]
    }
   ],
   "source": [
    "# percentile_99 = np.percentile(dl_errors, 99)\n",
    "\n",
    "percentile_99 = np.percentile(np.abs(dl_errors), 3)\n",
    "\n",
    "print(\"99th Percentile of Daily Rain:\", percentile_99)"
   ]
  },
  {
   "cell_type": "markdown",
   "id": "171dd0e9",
   "metadata": {},
   "source": [
    "### HEC-RAS Percentage beyond [-0.5, 0.5] ft"
   ]
  },
  {
   "cell_type": "code",
   "execution_count": 22,
   "id": "23f5832e",
   "metadata": {},
   "outputs": [
    {
     "data": {
      "text/html": [
       "<div>\n",
       "<style scoped>\n",
       "    .dataframe tbody tr th:only-of-type {\n",
       "        vertical-align: middle;\n",
       "    }\n",
       "\n",
       "    .dataframe tbody tr th {\n",
       "        vertical-align: top;\n",
       "    }\n",
       "\n",
       "    .dataframe thead th {\n",
       "        text-align: right;\n",
       "    }\n",
       "</style>\n",
       "<table border=\"1\" class=\"dataframe\">\n",
       "  <thead>\n",
       "    <tr style=\"text-align: right;\">\n",
       "      <th></th>\n",
       "      <th>S1_OBS</th>\n",
       "      <th>S1_RAS</th>\n",
       "      <th>S1_ERROR</th>\n",
       "      <th>S25A_TW_OBS</th>\n",
       "      <th>S25A_TW_RAS</th>\n",
       "      <th>S25A_TW_ERROR</th>\n",
       "      <th>S25B_TW_OBS</th>\n",
       "      <th>S25B_TW_RAS</th>\n",
       "      <th>S25B_TW_ERROR</th>\n",
       "      <th>S26_TW_OBS</th>\n",
       "      <th>S26_TW_RAS</th>\n",
       "      <th>S26_TW_ERROR</th>\n",
       "    </tr>\n",
       "  </thead>\n",
       "  <tbody>\n",
       "    <tr>\n",
       "      <th>0</th>\n",
       "      <td>-0.32</td>\n",
       "      <td>-0.54</td>\n",
       "      <td>-0.22</td>\n",
       "      <td>-0.31</td>\n",
       "      <td>-0.54</td>\n",
       "      <td>-0.23</td>\n",
       "      <td>-0.28</td>\n",
       "      <td>-0.53</td>\n",
       "      <td>-0.25</td>\n",
       "      <td>-0.30</td>\n",
       "      <td>-0.54</td>\n",
       "      <td>-0.24</td>\n",
       "    </tr>\n",
       "    <tr>\n",
       "      <th>1</th>\n",
       "      <td>0.17</td>\n",
       "      <td>-0.05</td>\n",
       "      <td>-0.22</td>\n",
       "      <td>0.14</td>\n",
       "      <td>-0.05</td>\n",
       "      <td>-0.19</td>\n",
       "      <td>0.19</td>\n",
       "      <td>-0.05</td>\n",
       "      <td>-0.24</td>\n",
       "      <td>0.19</td>\n",
       "      <td>-0.05</td>\n",
       "      <td>-0.24</td>\n",
       "    </tr>\n",
       "    <tr>\n",
       "      <th>2</th>\n",
       "      <td>0.80</td>\n",
       "      <td>0.62</td>\n",
       "      <td>-0.18</td>\n",
       "      <td>0.76</td>\n",
       "      <td>0.61</td>\n",
       "      <td>-0.15</td>\n",
       "      <td>0.83</td>\n",
       "      <td>0.63</td>\n",
       "      <td>-0.20</td>\n",
       "      <td>0.80</td>\n",
       "      <td>0.63</td>\n",
       "      <td>-0.17</td>\n",
       "    </tr>\n",
       "    <tr>\n",
       "      <th>3</th>\n",
       "      <td>1.26</td>\n",
       "      <td>1.09</td>\n",
       "      <td>-0.17</td>\n",
       "      <td>1.27</td>\n",
       "      <td>1.10</td>\n",
       "      <td>-0.17</td>\n",
       "      <td>1.31</td>\n",
       "      <td>1.10</td>\n",
       "      <td>-0.21</td>\n",
       "      <td>1.28</td>\n",
       "      <td>1.08</td>\n",
       "      <td>-0.20</td>\n",
       "    </tr>\n",
       "    <tr>\n",
       "      <th>4</th>\n",
       "      <td>1.68</td>\n",
       "      <td>1.51</td>\n",
       "      <td>-0.17</td>\n",
       "      <td>1.67</td>\n",
       "      <td>1.53</td>\n",
       "      <td>-0.14</td>\n",
       "      <td>1.70</td>\n",
       "      <td>1.51</td>\n",
       "      <td>-0.19</td>\n",
       "      <td>1.69</td>\n",
       "      <td>1.52</td>\n",
       "      <td>-0.17</td>\n",
       "    </tr>\n",
       "    <tr>\n",
       "      <th>...</th>\n",
       "      <td>...</td>\n",
       "      <td>...</td>\n",
       "      <td>...</td>\n",
       "      <td>...</td>\n",
       "      <td>...</td>\n",
       "      <td>...</td>\n",
       "      <td>...</td>\n",
       "      <td>...</td>\n",
       "      <td>...</td>\n",
       "      <td>...</td>\n",
       "      <td>...</td>\n",
       "      <td>...</td>\n",
       "    </tr>\n",
       "    <tr>\n",
       "      <th>17539</th>\n",
       "      <td>0.18</td>\n",
       "      <td>0.21</td>\n",
       "      <td>0.03</td>\n",
       "      <td>0.13</td>\n",
       "      <td>0.22</td>\n",
       "      <td>0.09</td>\n",
       "      <td>0.26</td>\n",
       "      <td>0.22</td>\n",
       "      <td>-0.04</td>\n",
       "      <td>0.17</td>\n",
       "      <td>0.20</td>\n",
       "      <td>0.03</td>\n",
       "    </tr>\n",
       "    <tr>\n",
       "      <th>17540</th>\n",
       "      <td>0.52</td>\n",
       "      <td>0.69</td>\n",
       "      <td>0.17</td>\n",
       "      <td>0.52</td>\n",
       "      <td>0.68</td>\n",
       "      <td>0.16</td>\n",
       "      <td>0.60</td>\n",
       "      <td>0.67</td>\n",
       "      <td>0.07</td>\n",
       "      <td>0.54</td>\n",
       "      <td>0.79</td>\n",
       "      <td>0.25</td>\n",
       "    </tr>\n",
       "    <tr>\n",
       "      <th>17541</th>\n",
       "      <td>1.14</td>\n",
       "      <td>1.13</td>\n",
       "      <td>-0.01</td>\n",
       "      <td>1.18</td>\n",
       "      <td>1.14</td>\n",
       "      <td>-0.04</td>\n",
       "      <td>1.17</td>\n",
       "      <td>1.13</td>\n",
       "      <td>-0.04</td>\n",
       "      <td>1.25</td>\n",
       "      <td>1.14</td>\n",
       "      <td>-0.11</td>\n",
       "    </tr>\n",
       "    <tr>\n",
       "      <th>17542</th>\n",
       "      <td>1.62</td>\n",
       "      <td>1.67</td>\n",
       "      <td>0.05</td>\n",
       "      <td>1.65</td>\n",
       "      <td>1.67</td>\n",
       "      <td>0.02</td>\n",
       "      <td>1.70</td>\n",
       "      <td>1.69</td>\n",
       "      <td>-0.01</td>\n",
       "      <td>1.67</td>\n",
       "      <td>1.67</td>\n",
       "      <td>0.00</td>\n",
       "    </tr>\n",
       "    <tr>\n",
       "      <th>17543</th>\n",
       "      <td>1.93</td>\n",
       "      <td>1.94</td>\n",
       "      <td>0.01</td>\n",
       "      <td>1.95</td>\n",
       "      <td>1.93</td>\n",
       "      <td>-0.02</td>\n",
       "      <td>2.00</td>\n",
       "      <td>1.95</td>\n",
       "      <td>-0.05</td>\n",
       "      <td>2.00</td>\n",
       "      <td>1.91</td>\n",
       "      <td>-0.09</td>\n",
       "    </tr>\n",
       "  </tbody>\n",
       "</table>\n",
       "<p>17544 rows × 12 columns</p>\n",
       "</div>"
      ],
      "text/plain": [
       "       S1_OBS  S1_RAS  S1_ERROR  S25A_TW_OBS  S25A_TW_RAS  S25A_TW_ERROR  \\\n",
       "0       -0.32   -0.54     -0.22        -0.31        -0.54          -0.23   \n",
       "1        0.17   -0.05     -0.22         0.14        -0.05          -0.19   \n",
       "2        0.80    0.62     -0.18         0.76         0.61          -0.15   \n",
       "3        1.26    1.09     -0.17         1.27         1.10          -0.17   \n",
       "4        1.68    1.51     -0.17         1.67         1.53          -0.14   \n",
       "...       ...     ...       ...          ...          ...            ...   \n",
       "17539    0.18    0.21      0.03         0.13         0.22           0.09   \n",
       "17540    0.52    0.69      0.17         0.52         0.68           0.16   \n",
       "17541    1.14    1.13     -0.01         1.18         1.14          -0.04   \n",
       "17542    1.62    1.67      0.05         1.65         1.67           0.02   \n",
       "17543    1.93    1.94      0.01         1.95         1.93          -0.02   \n",
       "\n",
       "       S25B_TW_OBS  S25B_TW_RAS  S25B_TW_ERROR  S26_TW_OBS  S26_TW_RAS  \\\n",
       "0            -0.28        -0.53          -0.25       -0.30       -0.54   \n",
       "1             0.19        -0.05          -0.24        0.19       -0.05   \n",
       "2             0.83         0.63          -0.20        0.80        0.63   \n",
       "3             1.31         1.10          -0.21        1.28        1.08   \n",
       "4             1.70         1.51          -0.19        1.69        1.52   \n",
       "...            ...          ...            ...         ...         ...   \n",
       "17539         0.26         0.22          -0.04        0.17        0.20   \n",
       "17540         0.60         0.67           0.07        0.54        0.79   \n",
       "17541         1.17         1.13          -0.04        1.25        1.14   \n",
       "17542         1.70         1.69          -0.01        1.67        1.67   \n",
       "17543         2.00         1.95          -0.05        2.00        1.91   \n",
       "\n",
       "       S26_TW_ERROR  \n",
       "0             -0.24  \n",
       "1             -0.24  \n",
       "2             -0.17  \n",
       "3             -0.20  \n",
       "4             -0.17  \n",
       "...             ...  \n",
       "17539          0.03  \n",
       "17540          0.25  \n",
       "17541         -0.11  \n",
       "17542          0.00  \n",
       "17543         -0.09  \n",
       "\n",
       "[17544 rows x 12 columns]"
      ]
     },
     "execution_count": 22,
     "metadata": {},
     "output_type": "execute_result"
    }
   ],
   "source": [
    "error_ras = pd.read_csv('../output/ras_1920.csv', index_col=0)\n",
    "error_ras.reset_index(drop=True, inplace=True)\n",
    "error_ras"
   ]
  },
  {
   "cell_type": "code",
   "execution_count": 23,
   "id": "f724a1ee",
   "metadata": {},
   "outputs": [
    {
     "data": {
      "text/html": [
       "<div>\n",
       "<style scoped>\n",
       "    .dataframe tbody tr th:only-of-type {\n",
       "        vertical-align: middle;\n",
       "    }\n",
       "\n",
       "    .dataframe tbody tr th {\n",
       "        vertical-align: top;\n",
       "    }\n",
       "\n",
       "    .dataframe thead th {\n",
       "        text-align: right;\n",
       "    }\n",
       "</style>\n",
       "<table border=\"1\" class=\"dataframe\">\n",
       "  <thead>\n",
       "    <tr style=\"text-align: right;\">\n",
       "      <th></th>\n",
       "      <th>S1_ERROR</th>\n",
       "      <th>S25A_TW_ERROR</th>\n",
       "      <th>S25B_TW_ERROR</th>\n",
       "      <th>S26_TW_ERROR</th>\n",
       "    </tr>\n",
       "  </thead>\n",
       "  <tbody>\n",
       "    <tr>\n",
       "      <th>0</th>\n",
       "      <td>-0.22</td>\n",
       "      <td>-0.23</td>\n",
       "      <td>-0.25</td>\n",
       "      <td>-0.24</td>\n",
       "    </tr>\n",
       "    <tr>\n",
       "      <th>1</th>\n",
       "      <td>-0.22</td>\n",
       "      <td>-0.19</td>\n",
       "      <td>-0.24</td>\n",
       "      <td>-0.24</td>\n",
       "    </tr>\n",
       "    <tr>\n",
       "      <th>2</th>\n",
       "      <td>-0.18</td>\n",
       "      <td>-0.15</td>\n",
       "      <td>-0.20</td>\n",
       "      <td>-0.17</td>\n",
       "    </tr>\n",
       "    <tr>\n",
       "      <th>3</th>\n",
       "      <td>-0.17</td>\n",
       "      <td>-0.17</td>\n",
       "      <td>-0.21</td>\n",
       "      <td>-0.20</td>\n",
       "    </tr>\n",
       "    <tr>\n",
       "      <th>4</th>\n",
       "      <td>-0.17</td>\n",
       "      <td>-0.14</td>\n",
       "      <td>-0.19</td>\n",
       "      <td>-0.17</td>\n",
       "    </tr>\n",
       "    <tr>\n",
       "      <th>...</th>\n",
       "      <td>...</td>\n",
       "      <td>...</td>\n",
       "      <td>...</td>\n",
       "      <td>...</td>\n",
       "    </tr>\n",
       "    <tr>\n",
       "      <th>17539</th>\n",
       "      <td>0.03</td>\n",
       "      <td>0.09</td>\n",
       "      <td>-0.04</td>\n",
       "      <td>0.03</td>\n",
       "    </tr>\n",
       "    <tr>\n",
       "      <th>17540</th>\n",
       "      <td>0.17</td>\n",
       "      <td>0.16</td>\n",
       "      <td>0.07</td>\n",
       "      <td>0.25</td>\n",
       "    </tr>\n",
       "    <tr>\n",
       "      <th>17541</th>\n",
       "      <td>-0.01</td>\n",
       "      <td>-0.04</td>\n",
       "      <td>-0.04</td>\n",
       "      <td>-0.11</td>\n",
       "    </tr>\n",
       "    <tr>\n",
       "      <th>17542</th>\n",
       "      <td>0.05</td>\n",
       "      <td>0.02</td>\n",
       "      <td>-0.01</td>\n",
       "      <td>0.00</td>\n",
       "    </tr>\n",
       "    <tr>\n",
       "      <th>17543</th>\n",
       "      <td>0.01</td>\n",
       "      <td>-0.02</td>\n",
       "      <td>-0.05</td>\n",
       "      <td>-0.09</td>\n",
       "    </tr>\n",
       "  </tbody>\n",
       "</table>\n",
       "<p>17544 rows × 4 columns</p>\n",
       "</div>"
      ],
      "text/plain": [
       "       S1_ERROR  S25A_TW_ERROR  S25B_TW_ERROR  S26_TW_ERROR\n",
       "0         -0.22          -0.23          -0.25         -0.24\n",
       "1         -0.22          -0.19          -0.24         -0.24\n",
       "2         -0.18          -0.15          -0.20         -0.17\n",
       "3         -0.17          -0.17          -0.21         -0.20\n",
       "4         -0.17          -0.14          -0.19         -0.17\n",
       "...         ...            ...            ...           ...\n",
       "17539      0.03           0.09          -0.04          0.03\n",
       "17540      0.17           0.16           0.07          0.25\n",
       "17541     -0.01          -0.04          -0.04         -0.11\n",
       "17542      0.05           0.02          -0.01          0.00\n",
       "17543      0.01          -0.02          -0.05         -0.09\n",
       "\n",
       "[17544 rows x 4 columns]"
      ]
     },
     "execution_count": 23,
     "metadata": {},
     "output_type": "execute_result"
    }
   ],
   "source": [
    "error_ras_concat = pd.concat([error_ras.loc[:, 'S1_ERROR'], error_ras.loc[:, 'S25A_TW_ERROR'], error_ras.loc[:, 'S25B_TW_ERROR'], error_ras.loc[:, 'S26_TW_ERROR']], axis=1)\n",
    "error_ras_concat = pd.DataFrame(error_ras_concat)\n",
    "error_ras_concat"
   ]
  },
  {
   "cell_type": "code",
   "execution_count": 29,
   "id": "7c661ac7",
   "metadata": {},
   "outputs": [
    {
     "name": "stdout",
     "output_type": "stream",
     "text": [
      "Station: S1\n",
      "2.599 %\n",
      "     \n",
      "Station: S25A\n",
      "3.249 %\n",
      "     \n",
      "Station: S25B\n",
      "4.417 %\n",
      "     \n",
      "Station: S26\n",
      "3.585 %\n",
      "     \n"
     ]
    }
   ],
   "source": [
    "stations = ['S1', 'S25A', 'S25B', 'S26']\n",
    "for i in range(len(stations)):\n",
    "    print(\"Station:\", stations[i])\n",
    "    each_station = error_ras_concat.iloc[:, i]\n",
    "    print(f'{len(each_station[each_station > 0.5]) / len(each_station) * 100 + len(each_station[each_station < -0.5]) / len(each_station) * 100:.3f} %')\n",
    "    print('     ')"
   ]
  },
  {
   "cell_type": "markdown",
   "id": "68c28bec",
   "metadata": {},
   "source": [
    "### DL Percentage beyond [-0.5, 0.5] feet for different prediction lengths "
   ]
  },
  {
   "cell_type": "code",
   "execution_count": 64,
   "id": "87623b7c",
   "metadata": {},
   "outputs": [],
   "source": [
    "lr_2yrs_error = lr - true_to_seires\n",
    "mlp_2yrs_error = mlp - true_to_seires\n",
    "rnn_2yrs_error = rnn - true_to_seires\n",
    "lstm_2yrs_error = lstm - true_to_seires\n",
    "conv_mlp_2yrs_error = conv_mlp - true_to_seires\n",
    "conv_rnn_2yrs_error = conv_rnn - true_to_seires"
   ]
  },
  {
   "cell_type": "markdown",
   "id": "d74a0661",
   "metadata": {},
   "source": [
    "- t+1"
   ]
  },
  {
   "cell_type": "code",
   "execution_count": 65,
   "id": "0141f7b4",
   "metadata": {},
   "outputs": [],
   "source": [
    "li = [0, 1, 2, 3]\n",
    "a = li[0]\n",
    "b = li[1]\n",
    "c = li[2]\n",
    "d = li[3]\n",
    "\n",
    "lr_2yrs_error_t1 = pd.concat([lr_2yrs_error.iloc[:, a], lr_2yrs_error.iloc[:, b], lr_2yrs_error.iloc[:, c], lr_2yrs_error.iloc[:, d]], axis=0)\n",
    "lr_2yrs_error_t1_df = pd.DataFrame(lr_2yrs_error_t1)\n",
    "\n",
    "mlp_2yrs_error_t1 = pd.concat([mlp_2yrs_error.iloc[:, a], mlp_2yrs_error.iloc[:, b], mlp_2yrs_error.iloc[:, c], mlp_2yrs_error.iloc[:, d]], axis=0)\n",
    "mlp_2yrs_error_t1_df = pd.DataFrame(mlp_2yrs_error_t1)\n",
    "\n",
    "rnn_2yrs_error_t1 = pd.concat([rnn_2yrs_error.iloc[:, a], rnn_2yrs_error.iloc[:, b], rnn_2yrs_error.iloc[:, c], rnn_2yrs_error.iloc[:, d]], axis=0)\n",
    "rnn_2yrs_error_t1_df = pd.DataFrame(rnn_2yrs_error_t1)\n",
    "\n",
    "lstm_2yrs_error_t1 = pd.concat([lstm_2yrs_error.iloc[:, a], lstm_2yrs_error.iloc[:, b], lstm_2yrs_error.iloc[:, c], lstm_2yrs_error.iloc[:, d]], axis=0)\n",
    "lstm_2yrs_error_t1_df = pd.DataFrame(lstm_2yrs_error_t1)\n",
    "\n",
    "conv_mlp_2yrs_error_t1 = pd.concat([conv_mlp_2yrs_error.iloc[:, a], conv_mlp_2yrs_error.iloc[:, b], conv_mlp_2yrs_error.iloc[:, c], conv_mlp_2yrs_error.iloc[:, d]], axis=0)\n",
    "conv_mlp_2yrs_error_t1_df = pd.DataFrame(conv_mlp_2yrs_error_t1)\n",
    "\n",
    "conv_rnn_2yrs_error_t1 = pd.concat([conv_rnn_2yrs_error.iloc[:, a], conv_rnn_2yrs_error.iloc[:, b], conv_rnn_2yrs_error.iloc[:, c], conv_rnn_2yrs_error.iloc[:, d]], axis=0)\n",
    "conv_rnn_2yrs_error_t1_df = pd.DataFrame(conv_rnn_2yrs_error_t1)\n",
    "\n",
    "\n",
    "\n",
    "error_model_concat_1st = pd.concat([lr_2yrs_error_t1, mlp_2yrs_error_t1, rnn_2yrs_error_t1, lstm_2yrs_error_t1, conv_mlp_2yrs_error_t1, conv_rnn_2yrs_error_t1], axis=1)\n",
    "error_model_concat_1st.columns = ['LR', 'MLP', 'RNN', 'LSTM', 'CNN', 'RCNN']"
   ]
  },
  {
   "cell_type": "code",
   "execution_count": 66,
   "id": "d7cb69d4",
   "metadata": {},
   "outputs": [],
   "source": [
    "# error_model_concat_1st"
   ]
  },
  {
   "cell_type": "code",
   "execution_count": 67,
   "id": "56b7ed33",
   "metadata": {},
   "outputs": [
    {
     "name": "stdout",
     "output_type": "stream",
     "text": [
      "Model: LR\n",
      "5.545 %\n",
      "     \n",
      "Model: MLP\n",
      "1.684 %\n",
      "     \n",
      "Model: RNN\n",
      "0.073 %\n",
      "     \n",
      "Model: LSTM\n",
      "0.110 %\n",
      "     \n",
      "Model: CNN\n",
      "0.086 %\n",
      "     \n",
      "Model: RCNN\n",
      "0.127 %\n",
      "     \n"
     ]
    }
   ],
   "source": [
    "models = ['LR', 'MLP', 'RNN', 'LSTM', 'CNN', 'RCNN']\n",
    "for i in range(len(models)):\n",
    "    print(\"Model:\", models[i])\n",
    "    model = error_model_concat_1st.iloc[:, i]\n",
    "    print(f'{len(model[model > 0.5]) / len(model) * 100 + len(model[model < -0.5]) / len(model) * 100:.3f} %')\n",
    "    print('     ')"
   ]
  },
  {
   "cell_type": "markdown",
   "id": "330d2f72",
   "metadata": {},
   "source": [
    "- t+8"
   ]
  },
  {
   "cell_type": "code",
   "execution_count": 68,
   "id": "e6a728a5",
   "metadata": {},
   "outputs": [],
   "source": [
    "li = [28, 29, 30, 31]\n",
    "a = li[0]\n",
    "b = li[1]\n",
    "c = li[2]\n",
    "d = li[3]\n",
    "\n",
    "lr_2yrs_error_t8 = pd.concat([lr_2yrs_error.iloc[:, a], lr_2yrs_error.iloc[:, b], lr_2yrs_error.iloc[:, c], lr_2yrs_error.iloc[:, d]], axis=0)\n",
    "lr_2yrs_error_t8_df = pd.DataFrame(lr_2yrs_error_t8)\n",
    "\n",
    "mlp_2yrs_error_t8 = pd.concat([mlp_2yrs_error.iloc[:, a], mlp_2yrs_error.iloc[:, b], mlp_2yrs_error.iloc[:, c], mlp_2yrs_error.iloc[:, d]], axis=0)\n",
    "mlp_2yrs_error_t8_df = pd.DataFrame(mlp_2yrs_error_t8)\n",
    "\n",
    "rnn_2yrs_error_t8 = pd.concat([rnn_2yrs_error.iloc[:, a], rnn_2yrs_error.iloc[:, b], rnn_2yrs_error.iloc[:, c], rnn_2yrs_error.iloc[:, d]], axis=0)\n",
    "rnn_2yrs_error_t8_df = pd.DataFrame(rnn_2yrs_error_t8)\n",
    "\n",
    "lstm_2yrs_error_t8 = pd.concat([lstm_2yrs_error.iloc[:, a], lstm_2yrs_error.iloc[:, b], lstm_2yrs_error.iloc[:, c], lstm_2yrs_error.iloc[:, d]], axis=0)\n",
    "lstm_2yrs_error_t8_df = pd.DataFrame(lstm_2yrs_error_t8)\n",
    "\n",
    "conv_mlp_2yrs_error_t8 = pd.concat([conv_mlp_2yrs_error.iloc[:, a], conv_mlp_2yrs_error.iloc[:, b], conv_mlp_2yrs_error.iloc[:, c], conv_mlp_2yrs_error.iloc[:, d]], axis=0)\n",
    "conv_mlp_2yrs_error_t8_df = pd.DataFrame(conv_mlp_2yrs_error_t8)\n",
    "\n",
    "conv_rnn_2yrs_error_t8 = pd.concat([conv_rnn_2yrs_error.iloc[:, a], conv_rnn_2yrs_error.iloc[:, b], conv_rnn_2yrs_error.iloc[:, c], conv_rnn_2yrs_error.iloc[:, d]], axis=0)\n",
    "conv_rnn_2yrs_error_t8_df = pd.DataFrame(conv_rnn_2yrs_error_t8)\n",
    "\n",
    "\n",
    "\n",
    "error_model_concat_8st = pd.concat([lr_2yrs_error_t8, mlp_2yrs_error_t8, rnn_2yrs_error_t8, lstm_2yrs_error_t8, conv_mlp_2yrs_error_t8, conv_rnn_2yrs_error_t8], axis=1)\n",
    "error_model_concat_8st.columns = ['LR', 'MLP', 'RNN', 'LSTM', 'CNN', 'RCNN']"
   ]
  },
  {
   "cell_type": "code",
   "execution_count": 69,
   "id": "40724777",
   "metadata": {},
   "outputs": [
    {
     "name": "stdout",
     "output_type": "stream",
     "text": [
      "Model: LR\n",
      "10.844 %\n",
      "     \n",
      "Model: MLP\n",
      "0.880 %\n",
      "     \n",
      "Model: RNN\n",
      "0.464 %\n",
      "     \n",
      "Model: LSTM\n",
      "2.500 %\n",
      "     \n",
      "Model: CNN\n",
      "0.237 %\n",
      "     \n",
      "Model: RCNN\n",
      "0.194 %\n",
      "     \n"
     ]
    }
   ],
   "source": [
    "models = ['LR', 'MLP', 'RNN', 'LSTM', 'CNN', 'RCNN']\n",
    "for i in range(len(models)):\n",
    "    print(\"Model:\", models[i])\n",
    "    model = error_model_concat_8st.iloc[:, i]\n",
    "    print(f'{len(model[model > 0.5]) / len(model) * 100 + len(model[model < -0.5]) / len(model) * 100:.3f} %')\n",
    "    print('     ')"
   ]
  },
  {
   "cell_type": "markdown",
   "id": "a0d35a9c",
   "metadata": {},
   "source": [
    "- t+16"
   ]
  },
  {
   "cell_type": "code",
   "execution_count": 70,
   "id": "019dfa89",
   "metadata": {},
   "outputs": [],
   "source": [
    "li = [60, 61, 62, 63]\n",
    "a = li[0]\n",
    "b = li[1]\n",
    "c = li[2]\n",
    "d = li[3]\n",
    "\n",
    "lr_2yrs_error_t16 = pd.concat([lr_2yrs_error.iloc[:, a], lr_2yrs_error.iloc[:, b], lr_2yrs_error.iloc[:, c], lr_2yrs_error.iloc[:, d]], axis=0)\n",
    "lr_2yrs_error_t16_df = pd.DataFrame(lr_2yrs_error_t16)\n",
    "\n",
    "mlp_2yrs_error_t16 = pd.concat([mlp_2yrs_error.iloc[:, a], mlp_2yrs_error.iloc[:, b], mlp_2yrs_error.iloc[:, c], mlp_2yrs_error.iloc[:, d]], axis=0)\n",
    "mlp_2yrs_error_t16_df = pd.DataFrame(mlp_2yrs_error_t16)\n",
    "\n",
    "rnn_2yrs_error_t16 = pd.concat([rnn_2yrs_error.iloc[:, a], rnn_2yrs_error.iloc[:, b], rnn_2yrs_error.iloc[:, c], rnn_2yrs_error.iloc[:, d]], axis=0)\n",
    "rnn_2yrs_error_t16_df = pd.DataFrame(rnn_2yrs_error_t16)\n",
    "\n",
    "lstm_2yrs_error_t16 = pd.concat([lstm_2yrs_error.iloc[:, a], lstm_2yrs_error.iloc[:, b], lstm_2yrs_error.iloc[:, c], lstm_2yrs_error.iloc[:, d]], axis=0)\n",
    "lstm_2yrs_error_t16_df = pd.DataFrame(lstm_2yrs_error_t16)\n",
    "\n",
    "conv_mlp_2yrs_error_t16 = pd.concat([conv_mlp_2yrs_error.iloc[:, a], conv_mlp_2yrs_error.iloc[:, b], conv_mlp_2yrs_error.iloc[:, c], conv_mlp_2yrs_error.iloc[:, d]], axis=0)\n",
    "conv_mlp_2yrs_error_t16_df = pd.DataFrame(conv_mlp_2yrs_error_t16)\n",
    "\n",
    "conv_rnn_2yrs_error_t16 = pd.concat([conv_rnn_2yrs_error.iloc[:, a], conv_rnn_2yrs_error.iloc[:, b], conv_rnn_2yrs_error.iloc[:, c], conv_rnn_2yrs_error.iloc[:, d]], axis=0)\n",
    "conv_rnn_2yrs_error_t16_df = pd.DataFrame(conv_rnn_2yrs_error_t16)\n",
    "\n",
    "\n",
    "\n",
    "error_model_concat_16st = pd.concat([lr_2yrs_error_t16, mlp_2yrs_error_t16, rnn_2yrs_error_t16, lstm_2yrs_error_t16, conv_mlp_2yrs_error_t16, conv_rnn_2yrs_error_t16], axis=1)\n",
    "error_model_concat_16st.columns = ['LR', 'MLP', 'RNN', 'LSTM', 'CNN', 'RCNN']"
   ]
  },
  {
   "cell_type": "code",
   "execution_count": 71,
   "id": "6120349e",
   "metadata": {},
   "outputs": [
    {
     "name": "stdout",
     "output_type": "stream",
     "text": [
      "Model: LR\n",
      "5.874 %\n",
      "     \n",
      "Model: MLP\n",
      "0.358 %\n",
      "     \n",
      "Model: RNN\n",
      "1.316 %\n",
      "     \n",
      "Model: LSTM\n",
      "3.125 %\n",
      "     \n",
      "Model: CNN\n",
      "0.297 %\n",
      "     \n",
      "Model: RCNN\n",
      "0.250 %\n",
      "     \n"
     ]
    }
   ],
   "source": [
    "models = ['LR', 'MLP', 'RNN', 'LSTM', 'CNN', 'RCNN']\n",
    "for i in range(len(models)):\n",
    "    print(\"Model:\", models[i])\n",
    "    model = error_model_concat_16st.iloc[:, i]\n",
    "    print(f'{len(model[model > 0.5]) / len(model) * 100 + len(model[model < -0.5]) / len(model) * 100:.3f} %')\n",
    "    print('     ')"
   ]
  },
  {
   "cell_type": "markdown",
   "id": "7cbb2007",
   "metadata": {},
   "source": [
    "- t+24"
   ]
  },
  {
   "cell_type": "code",
   "execution_count": 72,
   "id": "3270bb93",
   "metadata": {},
   "outputs": [],
   "source": [
    "li = [92, 93, 94, 95]\n",
    "a = li[0]\n",
    "b = li[1]\n",
    "c = li[2]\n",
    "d = li[3]\n",
    "\n",
    "lr_2yrs_error_t24 = pd.concat([lr_2yrs_error.iloc[:, a], lr_2yrs_error.iloc[:, b], lr_2yrs_error.iloc[:, c], lr_2yrs_error.iloc[:, d]], axis=0)\n",
    "lr_2yrs_error_t24_df = pd.DataFrame(lr_2yrs_error_t24)\n",
    "\n",
    "mlp_2yrs_error_t24 = pd.concat([mlp_2yrs_error.iloc[:, a], mlp_2yrs_error.iloc[:, b], mlp_2yrs_error.iloc[:, c], mlp_2yrs_error.iloc[:, d]], axis=0)\n",
    "mlp_2yrs_error_t24_df = pd.DataFrame(mlp_2yrs_error_t24)\n",
    "\n",
    "rnn_2yrs_error_t24 = pd.concat([rnn_2yrs_error.iloc[:, a], rnn_2yrs_error.iloc[:, b], rnn_2yrs_error.iloc[:, c], rnn_2yrs_error.iloc[:, d]], axis=0)\n",
    "rnn_2yrs_error_t24_df = pd.DataFrame(rnn_2yrs_error_t24)\n",
    "\n",
    "lstm_2yrs_error_t24 = pd.concat([lstm_2yrs_error.iloc[:, a], lstm_2yrs_error.iloc[:, b], lstm_2yrs_error.iloc[:, c], lstm_2yrs_error.iloc[:, d]], axis=0)\n",
    "lstm_2yrs_error_t24_df = pd.DataFrame(lstm_2yrs_error_t24)\n",
    "\n",
    "conv_mlp_2yrs_error_t24 = pd.concat([conv_mlp_2yrs_error.iloc[:, a], conv_mlp_2yrs_error.iloc[:, b], conv_mlp_2yrs_error.iloc[:, c], conv_mlp_2yrs_error.iloc[:, d]], axis=0)\n",
    "conv_mlp_2yrs_error_t24_df = pd.DataFrame(conv_mlp_2yrs_error_t24)\n",
    "\n",
    "conv_rnn_2yrs_error_t24 = pd.concat([conv_rnn_2yrs_error.iloc[:, a], conv_rnn_2yrs_error.iloc[:, b], conv_rnn_2yrs_error.iloc[:, c], conv_rnn_2yrs_error.iloc[:, d]], axis=0)\n",
    "conv_rnn_2yrs_error_t24_df = pd.DataFrame(conv_rnn_2yrs_error_t24)\n",
    "\n",
    "\n",
    "\n",
    "error_model_concat_24st = pd.concat([lr_2yrs_error_t24, mlp_2yrs_error_t24, rnn_2yrs_error_t24, lstm_2yrs_error_t24, conv_mlp_2yrs_error_t24, conv_rnn_2yrs_error_t24], axis=1)\n",
    "error_model_concat_24st.columns = ['LR', 'MLP', 'RNN', 'LSTM', 'CNN', 'RCNN']"
   ]
  },
  {
   "cell_type": "code",
   "execution_count": 73,
   "id": "f8857194",
   "metadata": {},
   "outputs": [
    {
     "data": {
      "text/plain": [
       "(70084, 6)"
      ]
     },
     "execution_count": 73,
     "metadata": {},
     "output_type": "execute_result"
    }
   ],
   "source": [
    "error_model_concat_24st.shape"
   ]
  },
  {
   "cell_type": "code",
   "execution_count": 74,
   "id": "c7cfe572",
   "metadata": {},
   "outputs": [
    {
     "name": "stdout",
     "output_type": "stream",
     "text": [
      "Model: LR\n",
      "14.781 %\n",
      "     \n",
      "Model: MLP\n",
      "0.990 %\n",
      "     \n",
      "Model: RNN\n",
      "1.481 %\n",
      "     \n",
      "Model: LSTM\n",
      "2.237 %\n",
      "     \n",
      "Model: CNN\n",
      "0.291 %\n",
      "     \n",
      "Model: RCNN\n",
      "0.311 %\n",
      "     \n"
     ]
    }
   ],
   "source": [
    "models = ['LR', 'MLP', 'RNN', 'LSTM', 'CNN', 'RCNN']\n",
    "for i in range(len(models)):\n",
    "    print(\"Model:\", models[i])\n",
    "    model = error_model_concat_24st.iloc[:, i]\n",
    "    print(f'{len(model[model > 0.5]) / len(model) * 100 + len(model[model < -0.5]) / len(model) * 100:.3f} %')\n",
    "    print('     ')"
   ]
  },
  {
   "cell_type": "markdown",
   "id": "85f58dd5",
   "metadata": {},
   "source": [
    "- entire 24 hours"
   ]
  },
  {
   "cell_type": "code",
   "execution_count": 57,
   "id": "bf5dcfcd",
   "metadata": {},
   "outputs": [],
   "source": [
    "lr_2yrs_error = lr_2yrs_error.values.reshape((-1, 1))\n",
    "mlp_2yrs_error = mlp_2yrs_error.values.reshape((-1, 1))\n",
    "rnn_2yrs_error = rnn_2yrs_error.values.reshape((-1, 1))\n",
    "lstm_2yrs_error = lstm_2yrs_error.values.reshape((-1, 1))\n",
    "conv_mlp_2yrs_error = conv_mlp_2yrs_error.values.reshape((-1, 1))\n",
    "conv_rnn_2yrs_error = conv_rnn_2yrs_error.values.reshape((-1, 1))"
   ]
  },
  {
   "cell_type": "code",
   "execution_count": 60,
   "id": "477a08dc",
   "metadata": {},
   "outputs": [],
   "source": [
    "lr_2yrs_error_df = pd.DataFrame(lr_2yrs_error)\n",
    "mlp_2yrs_error_df = pd.DataFrame(mlp_2yrs_error)\n",
    "rnn_2yrs_error_df = pd.DataFrame(rnn_2yrs_error)\n",
    "lstm_2yrs_error_df = pd.DataFrame(lstm_2yrs_error)\n",
    "conv_mlp_2yrs_error_df = pd.DataFrame(conv_mlp_2yrs_error)\n",
    "conv_rnn_2yrs_error_df = pd.DataFrame(conv_rnn_2yrs_error)"
   ]
  },
  {
   "cell_type": "code",
   "execution_count": 61,
   "id": "5372d286",
   "metadata": {
    "scrolled": true
   },
   "outputs": [],
   "source": [
    "error_model_concat = pd.concat([lr_2yrs_error_df, mlp_2yrs_error_df, rnn_2yrs_error_df, \n",
    "                                lstm_2yrs_error_df, conv_mlp_2yrs_error_df, conv_rnn_2yrs_error_df], axis=1)\n",
    "error_model_concat.columns = ['LR', 'MLP', 'RNN', 'LSTM', 'CNN', 'RCNN']"
   ]
  },
  {
   "cell_type": "code",
   "execution_count": 63,
   "id": "9718fdd7",
   "metadata": {
    "scrolled": true
   },
   "outputs": [
    {
     "name": "stdout",
     "output_type": "stream",
     "text": [
      "Model: LR\n",
      "13.051 %\n",
      "     \n",
      "Model: MLP\n",
      "0.753 %\n",
      "     \n",
      "Model: RNN\n",
      "0.777 %\n",
      "     \n",
      "Model: LSTM\n",
      "2.360 %\n",
      "     \n",
      "Model: CNN\n",
      "0.244 %\n",
      "     \n",
      "Model: RCNN\n",
      "0.224 %\n",
      "     \n"
     ]
    }
   ],
   "source": [
    "models = ['LR', 'MLP', 'RNN', 'LSTM', 'CNN', 'RCNN']\n",
    "for i in range(len(models)):\n",
    "    print(\"Model:\", models[i])\n",
    "    model = error_model_concat.iloc[:, i]\n",
    "    print(f'{len(model[model > 0.5]) / len(model) * 100 + len(model[model < -0.5]) / len(model) * 100:.3f} %')\n",
    "    print('     ')"
   ]
  },
  {
   "cell_type": "code",
   "execution_count": null,
   "id": "aea909e7",
   "metadata": {},
   "outputs": [],
   "source": []
  }
 ],
 "metadata": {
  "kernelspec": {
   "display_name": "Python 3 (ipykernel)",
   "language": "python",
   "name": "python3"
  },
  "language_info": {
   "codemirror_mode": {
    "name": "ipython",
    "version": 3
   },
   "file_extension": ".py",
   "mimetype": "text/x-python",
   "name": "python",
   "nbconvert_exporter": "python",
   "pygments_lexer": "ipython3",
   "version": "3.8.16"
  }
 },
 "nbformat": 4,
 "nbformat_minor": 5
}
