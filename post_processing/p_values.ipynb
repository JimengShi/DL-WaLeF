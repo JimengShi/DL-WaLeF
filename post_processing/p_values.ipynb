{
 "cells": [
  {
   "cell_type": "code",
   "execution_count": 7,
   "id": "368a9386",
   "metadata": {},
   "outputs": [],
   "source": [
    "import pandas as pd\n",
    "import numpy as np\n",
    "import matplotlib.pyplot as plt\n",
    "import seaborn as sns\n",
    "from scipy.stats import mannwhitneyu, wilcoxon\n",
    "import numpy as np\n",
    "from helper import p_values, p_values_ras, p_values_wilcoxon, p_values_ras_wilcoxon"
   ]
  },
  {
   "cell_type": "code",
   "execution_count": 8,
   "id": "94fdce21",
   "metadata": {},
   "outputs": [
    {
     "name": "stdout",
     "output_type": "stream",
     "text": [
      "(17519, 10)\n",
      "(17519, 4)\n",
      "(70076,)\n"
     ]
    }
   ],
   "source": [
    "hecras = pd.read_csv('../data/ras_1920.csv')\n",
    "print(hecras.shape)\n",
    "\n",
    "ras = hecras[['T2 RAS S1','T2 RAS S25A', 'T2 RAS S25B', 'RAS S26']].values\n",
    "obs = hecras[['S1 OBS', 'S25A_TW OBS' , 'S25B_TW OBS', 'S26_TW OBS']].values\n",
    "ras_error = ras - obs\n",
    "print(ras_error.shape)\n",
    "\n",
    "ras_error = ras_error.reshape((-1,))\n",
    "print(ras_error.shape)"
   ]
  },
  {
   "cell_type": "code",
   "execution_count": 11,
   "id": "62b81577",
   "metadata": {},
   "outputs": [
    {
     "name": "stdout",
     "output_type": "stream",
     "text": [
      "(19249, 96) (19249, 96) (19249, 96) (19249, 96) (19249, 96) (19249, 96)\n"
     ]
    }
   ],
   "source": [
    "true_to_seires = pd.read_csv('../output/inv_y_rnn.csv', index_col=0)\n",
    "\n",
    "mlp_raw = pd.read_csv('../output/inv_yhat_mlp.csv', index_col=0)\n",
    "rnn_raw = pd.read_csv('../output/inv_yhat_rnn.csv', index_col=0)\n",
    "lstm_raw = pd.read_csv('../output/inv_yhat_lstm.csv', index_col=0)\n",
    "cnn_raw = pd.read_csv('../output/inv_yhat_cnn.csv', index_col=0)\n",
    "rcnn_raw = pd.read_csv('../output/inv_yhat_rcnn.csv', index_col=0)\n",
    "\n",
    "print(true_to_seires.shape, mlp_raw.shape, rnn_raw.shape, lstm_raw.shape, cnn_raw.shape, rcnn_raw.shape)"
   ]
  },
  {
   "cell_type": "code",
   "execution_count": 12,
   "id": "27bf8ee2",
   "metadata": {},
   "outputs": [
    {
     "name": "stdout",
     "output_type": "stream",
     "text": [
      "(17519, 96) (17519, 96) (17519, 96) (17519, 96) (17519, 96) (17519, 96)\n"
     ]
    }
   ],
   "source": [
    "true_to_seires = true_to_seires.iloc[-17519:, :]\n",
    "\n",
    "mlp = mlp_raw.iloc[-17519:, :]\n",
    "rnn = rnn_raw.iloc[-17519:, :]\n",
    "lstm = lstm_raw.iloc[-17519:, :]\n",
    "cnn = conv_mlp_raw.iloc[-17519:, :]\n",
    "rcnn = conv_rnn_raw.iloc[-17519:, :]\n",
    "\n",
    "print(true_to_seires.shape, mlp.shape, rnn.shape, lstm.shape, cnn.shape, rcnn.shape)"
   ]
  },
  {
   "cell_type": "code",
   "execution_count": 14,
   "id": "9940e26e",
   "metadata": {},
   "outputs": [
    {
     "name": "stdout",
     "output_type": "stream",
     "text": [
      "(17519, 96) (17519, 96) (17519, 96) (17519, 96) (17519, 96)\n"
     ]
    }
   ],
   "source": [
    "mlp_2yrs_error = mlp - true_to_seires\n",
    "rnn_2yrs_error = rnn - true_to_seires\n",
    "lstm_2yrs_error = lstm - true_to_seires\n",
    "cnn_2yrs_error = cnn - true_to_seires\n",
    "rcnn_2yrs_error = rcnn - true_to_seires\n",
    "\n",
    "print(mlp_2yrs_error.shape, rnn_2yrs_error.shape, \n",
    "      lstm_2yrs_error.shape, cnn_2yrs_error.shape, rcnn_2yrs_error.shape\n",
    "     )"
   ]
  },
  {
   "cell_type": "code",
   "execution_count": 16,
   "id": "34f4feba",
   "metadata": {},
   "outputs": [],
   "source": [
    "def concat_df(df, i):\n",
    "    \"\"\"\n",
    "    use to concatenate 4 locations at one time point\n",
    "    @df: dataframe of prediction errors\n",
    "    @i: time point\n",
    "    \"\"\"\n",
    "    a = df.iloc[:, i:i+1].values\n",
    "    b = df.iloc[:, i+1:i+2].values\n",
    "    c = df.iloc[:, i+2:i+3].values\n",
    "    d = df.iloc[:, i+3:i+4].values\n",
    "    e = np.concatenate((a, b, c, d), axis=0)\n",
    "    dataframe = pd.DataFrame(e)\n",
    "    \n",
    "    return dataframe.values.reshape(-1,)"
   ]
  },
  {
   "cell_type": "markdown",
   "id": "8478a4d9",
   "metadata": {},
   "source": [
    "### Mann-Whitney U Test"
   ]
  },
  {
   "cell_type": "code",
   "execution_count": 19,
   "id": "1c0d2ddc",
   "metadata": {},
   "outputs": [],
   "source": [
    "# u_stat, p_value_mannwhitney1 = mannwhitneyu(rcnn_errors_t1, mlp_errors_t1)\n",
    "# u_stat, p_value_mannwhitney2 = mannwhitneyu(rcnn_errors_t1, rnn_errors_t1)\n",
    "# u_stat, p_value_mannwhitney3 = mannwhitneyu(rcnn_errors_t1, lstm_errors_t1)\n",
    "# u_stat, p_value_mannwhitney4 = mannwhitneyu(rcnn_errors_t1, cnn_errors_t1)\n",
    "# u_stat, p_value_mannwhitney5 = mannwhitneyu(rcnn_errors_t1, ras_error)\n",
    "\n",
    "\n",
    "# print(p_value_mannwhitney1,'\\n',\n",
    "#       p_value_mannwhitney2,'\\n',\n",
    "#       p_value_mannwhitney3,'\\n',\n",
    "#       p_value_mannwhitney4,'\\n',\n",
    "# #       p_value_mannwhitney5\n",
    "#      )"
   ]
  },
  {
   "cell_type": "markdown",
   "id": "24e8dd51",
   "metadata": {},
   "source": [
    "### Wilcoxon Test"
   ]
  },
  {
   "cell_type": "markdown",
   "id": "ebb2fc63",
   "metadata": {},
   "source": [
    "#### for different forecast lead times"
   ]
  },
  {
   "cell_type": "code",
   "execution_count": 33,
   "id": "6ab6d1f1",
   "metadata": {},
   "outputs": [
    {
     "name": "stdout",
     "output_type": "stream",
     "text": [
      "1.1498861814366294e-21 \n",
      " 4.597675264784962e-109 \n",
      " 0.0 \n",
      " 4.1939399712806075e-73 \n",
      " 0.0\n",
      "======================\n",
      "1.8742396575895505e-18 \n",
      " 0.0 \n",
      " 0.0 \n",
      " 1.0877770243598408e-57 \n",
      " 0.0\n",
      "======================\n",
      "2.3483041364765616e-08 \n",
      " 0.0 \n",
      " 0.0 \n",
      " 0.0 \n",
      " 0.0\n",
      "======================\n",
      "1.0581117307490894e-27 \n",
      " 0.0 \n",
      " 0.0 \n",
      " 0.0 \n",
      " 0.0\n",
      "======================\n"
     ]
    }
   ],
   "source": [
    "t_start = [0, 28, 60, 92]   # t+1, t+8, t+16, t+24 over 4 locations\n",
    "\n",
    "for t in t_start:\n",
    "    mlp_errors_t1 = concat_df(mlp_2yrs_error, t)\n",
    "    rnn_errors_t1 = concat_df(rnn_2yrs_error, t)\n",
    "    lstm_errors_t1 = concat_df(lstm_2yrs_error, t)\n",
    "    cnn_errors_t1 = concat_df(cnn_2yrs_error, t)\n",
    "    rcnn_errors_t1 = concat_df(rcnn_2yrs_error, t)\n",
    "\n",
    "    #print(mlp_errors_t1.shape, rnn_errors_t1.shape, lstm_errors_t1.shape, cnn_errors_t1.shape, rcnn_errors_t1.shape)\n",
    "    u_stat, p_value_wilcoxon1 = wilcoxon(rcnn_errors_t1, mlp_errors_t1)\n",
    "    u_stat, p_value_wilcoxon2 = wilcoxon(rcnn_errors_t1, rnn_errors_t1)\n",
    "    u_stat, p_value_wilcoxon3 = wilcoxon(rcnn_errors_t1, lstm_errors_t1)\n",
    "    u_stat, p_value_wilcoxon4 = wilcoxon(rcnn_errors_t1, cnn_errors_t1)\n",
    "    u_stat, p_value_wilcoxon5 = wilcoxon(rcnn_errors_t1, ras_error)\n",
    "    \n",
    "    print(p_value_wilcoxon1,'\\n',\n",
    "      p_value_wilcoxon2,'\\n',\n",
    "      p_value_wilcoxon3,'\\n',\n",
    "      p_value_wilcoxon4,'\\n',\n",
    "      p_value_wilcoxon5\n",
    "     )\n",
    "    print('======================')"
   ]
  },
  {
   "cell_type": "markdown",
   "id": "25313ca9",
   "metadata": {},
   "source": [
    "#### for different locations (24-hour-ahead prediction)"
   ]
  },
  {
   "cell_type": "code",
   "execution_count": 40,
   "id": "4a4d72d8",
   "metadata": {},
   "outputs": [
    {
     "name": "stdout",
     "output_type": "stream",
     "text": [
      "(17519, 4) (17519, 4) (17519, 4) (17519, 4) (17519, 4)\n"
     ]
    }
   ],
   "source": [
    "mlp_2yrs_error_24hr = mlp_2yrs_error.iloc[:, -4:]\n",
    "rnn_2yrs_error_24hr = rnn_2yrs_error.iloc[:, -4:]\n",
    "lstm_2yrs_error_24hr = lstm_2yrs_error.iloc[:, -4:]\n",
    "cnn_2yrs_error_24hr = cnn_2yrs_error.iloc[:, -4:]\n",
    "rcnn_2yrs_error_24hr = rcnn_2yrs_error.iloc[:, -4:]\n",
    "\n",
    "print(mlp_2yrs_error_24hr.shape, rnn_2yrs_error_24hr.shape, \n",
    "      lstm_2yrs_error_24hr.shape, cnn_2yrs_error_24hr.shape, rcnn_2yrs_error_24hr.shape\n",
    "     )"
   ]
  },
  {
   "cell_type": "code",
   "execution_count": 41,
   "id": "b6fc0b5a",
   "metadata": {},
   "outputs": [
    {
     "name": "stdout",
     "output_type": "stream",
     "text": [
      "(17519, 4)\n"
     ]
    }
   ],
   "source": [
    "ras = hecras[['T2 RAS S1','T2 RAS S25A', 'T2 RAS S25B', 'RAS S26']].values\n",
    "obs = hecras[['S1 OBS', 'S25A_TW OBS' , 'S25B_TW OBS', 'S26_TW OBS']].values\n",
    "ras_error = ras - obs\n",
    "print(ras_error.shape)"
   ]
  },
  {
   "cell_type": "code",
   "execution_count": 45,
   "id": "3f923dc7",
   "metadata": {},
   "outputs": [
    {
     "name": "stdout",
     "output_type": "stream",
     "text": [
      "S1, S25A, S25B, S26: [0.00000000e+000 1.17488635e-039 1.69589431e-165 0.00000000e+000]\n"
     ]
    }
   ],
   "source": [
    "u_stat, p_value_wilcoxon = wilcoxon(mlp_2yrs_error_24hr, ras_error)\n",
    "print('S1, S25A, S25B, S26:', p_value_wilcoxon)"
   ]
  },
  {
   "cell_type": "code",
   "execution_count": 46,
   "id": "7abf942e",
   "metadata": {},
   "outputs": [
    {
     "name": "stdout",
     "output_type": "stream",
     "text": [
      "S1, S25A, S25B, S26: [1.73969617e-180 3.89190744e-102 7.81807807e-021 0.00000000e+000]\n"
     ]
    }
   ],
   "source": [
    "u_stat, p_value_wilcoxon = wilcoxon(rnn_2yrs_error_24hr, ras_error)\n",
    "print('S1, S25A, S25B, S26:', p_value_wilcoxon)"
   ]
  },
  {
   "cell_type": "code",
   "execution_count": 47,
   "id": "de044654",
   "metadata": {},
   "outputs": [
    {
     "name": "stdout",
     "output_type": "stream",
     "text": [
      "S1, S25A, S25B, S26: [4.01434436e-165 4.45283707e-038 1.49737196e-001 0.00000000e+000]\n"
     ]
    }
   ],
   "source": [
    "u_stat, p_value_wilcoxon = wilcoxon(lstm_2yrs_error_24hr, ras_error)\n",
    "print('S1, S25A, S25B, S26:', p_value_wilcoxon)"
   ]
  },
  {
   "cell_type": "code",
   "execution_count": 48,
   "id": "c7a4d2da",
   "metadata": {},
   "outputs": [
    {
     "name": "stdout",
     "output_type": "stream",
     "text": [
      "S1, S25A, S25B, S26: [9.46540846e-252 2.54900470e-182 3.39111957e-009 0.00000000e+000]\n"
     ]
    }
   ],
   "source": [
    "u_stat, p_value_wilcoxon = wilcoxon(cnn_2yrs_error_24hr, ras_error)\n",
    "print('S1, S25A, S25B, S26:', p_value_wilcoxon)"
   ]
  },
  {
   "cell_type": "code",
   "execution_count": 49,
   "id": "f7d8d90e",
   "metadata": {},
   "outputs": [
    {
     "name": "stdout",
     "output_type": "stream",
     "text": [
      "S1, S25A, S25B, S26: [5.04092159e-010 4.46270942e-181 1.87732220e-035 0.00000000e+000]\n"
     ]
    }
   ],
   "source": [
    "u_stat, p_value_wilcoxon = wilcoxon(rcnn_2yrs_error_24hr, ras_error)\n",
    "print('S1, S25A, S25B, S26:', p_value_wilcoxon)"
   ]
  },
  {
   "cell_type": "code",
   "execution_count": null,
   "id": "9a4b6a91",
   "metadata": {},
   "outputs": [],
   "source": []
  },
  {
   "cell_type": "code",
   "execution_count": null,
   "id": "9c81326e",
   "metadata": {},
   "outputs": [],
   "source": []
  },
  {
   "cell_type": "code",
   "execution_count": 34,
   "id": "63a43b7f",
   "metadata": {},
   "outputs": [],
   "source": [
    "# plt.figure(figsize=(12, 5))\n",
    "# # sns.histplot(mlp_errors_t1, kde=True, label='MLP_errors', stat='density', bins=30, edgecolor='none')\n",
    "# sns.histplot(rnn_errors_t1, kde=True, label='RNN_errors', stat='density', bins=30, edgecolor='none')\n",
    "# sns.histplot(cnn_errors_t1, kde=True, label='CNN_errors', stat='density', bins=30, edgecolor='none')\n",
    "# # sns.histplot(lstm_errors_t1, kde=True, label='MLP_errors', stat='density', bins=30, edgecolor='none')\n",
    "# sns.histplot(rcnn_errors_t1, kde=True, label='RCNN_errors', stat='density', bins=30, edgecolor='none')\n",
    "# # sns.histplot(ras_error, kde=True, label='RAS_errors', stat='density', bins=30, edgecolor='none')\n",
    "\n",
    "\n",
    "# # plt.title(f'\\n p-value: {p_value_mannwhitney:.2e}')\n",
    "# plt.legend()"
   ]
  },
  {
   "cell_type": "code",
   "execution_count": null,
   "id": "f520aeb6",
   "metadata": {},
   "outputs": [],
   "source": []
  },
  {
   "cell_type": "code",
   "execution_count": null,
   "id": "64609b46",
   "metadata": {},
   "outputs": [],
   "source": []
  },
  {
   "cell_type": "code",
   "execution_count": null,
   "id": "bd05713e",
   "metadata": {},
   "outputs": [],
   "source": []
  },
  {
   "cell_type": "code",
   "execution_count": 5,
   "id": "b7744090",
   "metadata": {},
   "outputs": [
    {
     "name": "stdout",
     "output_type": "stream",
     "text": [
      "Small sample size (n=50), p-value: 7.09e-01\n",
      "Large sample size (n=100000), p-value: 7.81e-01\n"
     ]
    },
    {
     "data": {
      "image/png": "[encoded data removed]",
      "text/plain": [
       "<Figure size 864x432 with 2 Axes>"
      ]
     },
     "metadata": {
      "needs_background": "light"
     },
     "output_type": "display_data"
    }
   ],
   "source": [
    "# import numpy as np\n",
    "# import matplotlib.pyplot as plt\n",
    "# from scipy.stats import mannwhitneyu, wilcoxon\n",
    "\n",
    "# # Generating synthetic data for demonstration\n",
    "# np.random.seed(1234)\n",
    "# small_sample_size = 50\n",
    "# large_sample_size = 100000\n",
    "\n",
    "# # Small difference in mean\n",
    "# # small_diff = 0.05\n",
    "# small_diff = 0.000005\n",
    "\n",
    "# # Generate data with small sample size\n",
    "# small_series1 = np.random.normal(0, 1, small_sample_size)\n",
    "# small_series2 = np.random.normal(small_diff, 1, small_sample_size)\n",
    "\n",
    "# # Generate data with large sample size\n",
    "# large_series1 = np.random.normal(0, 1, large_sample_size)\n",
    "# large_series2 = np.random.normal(small_diff, 1, large_sample_size)\n",
    "\n",
    "# # Perform Mann-Whitney U Test for small sample size\n",
    "# u_stat_small, p_value_small = wilcoxon(small_series1, small_series2, alternative='two-sided')\n",
    "# print(f\"Small sample size (n={small_sample_size}), p-value: {p_value_small:.2e}\")\n",
    "\n",
    "# # Perform Mann-Whitney U Test for large sample size\n",
    "# u_stat_large, p_value_large = wilcoxon(large_series1, large_series2, alternative='two-sided')\n",
    "# print(f\"Large sample size (n={large_sample_size}), p-value: {p_value_large:.2e}\")\n",
    "\n",
    "# # Visualize the distributions\n",
    "# plt.figure(figsize=(12, 6))\n",
    "\n",
    "# # Small sample size\n",
    "# plt.subplot(1, 2, 1)\n",
    "# plt.hist(small_series1, bins=15, alpha=0.5, label='Group 1')\n",
    "# plt.hist(small_series2, bins=15, alpha=0.5, label='Group 2')\n",
    "# plt.title(f'Small Sample Size (n={small_sample_size})\\n p-value: {p_value_small:.2e}')\n",
    "# plt.legend()\n",
    "\n",
    "# # Large sample size\n",
    "# plt.subplot(1, 2, 2)\n",
    "# plt.hist(large_series1, bins=50, alpha=0.5, label='Group 1')\n",
    "# plt.hist(large_series2, bins=50, alpha=0.5, label='Group 2')\n",
    "# plt.title(f'Large Sample Size (n={large_sample_size})\\n p-value: {p_value_large:.2e}')\n",
    "# plt.legend()\n",
    "\n",
    "# plt.tight_layout()\n",
    "# plt.show()\n"
   ]
  },
  {
   "cell_type": "code",
   "execution_count": null,
   "id": "2594a256",
   "metadata": {},
   "outputs": [],
   "source": [
    "large_series1"
   ]
  },
  {
   "cell_type": "code",
   "execution_count": null,
   "id": "2ebd37e0",
   "metadata": {},
   "outputs": [],
   "source": [
    "large_series2"
   ]
  },
  {
   "cell_type": "code",
   "execution_count": 181,
   "id": "711654da",
   "metadata": {},
   "outputs": [
    {
     "data": {
      "image/png": "[encoded data removed]",
      "text/plain": [
       "<Figure size 1296x432 with 2 Axes>"
      ]
     },
     "metadata": {
      "needs_background": "light"
     },
     "output_type": "display_data"
    }
   ],
   "source": [
    "# Create subplots\n",
    "fig, axes = plt.subplots(1, 2, figsize=(18, 6), sharey=True)\n",
    "\n",
    "# Plot the first time series\n",
    "sns.violinplot( data=large_series1, inner='quartile', scale='width', ax=axes[0])\n",
    "axes[0].set_title('Time Series 1 Distribution', fontsize=16)\n",
    "axes[0].set_xlabel('Month-Year', fontsize=14)\n",
    "axes[0].set_ylabel('Value', fontsize=14)\n",
    "axes[0].tick_params(axis='x', rotation=45)\n",
    "\n",
    "# Plot the second time series\n",
    "sns.violinplot(data=large_series2, inner='quartile', scale='width', ax=axes[1])\n",
    "axes[1].set_title('Time Series 2 Distribution', fontsize=16)\n",
    "axes[1].set_xlabel('Month-Year', fontsize=14)\n",
    "axes[1].tick_params(axis='x', rotation=45)\n",
    "\n",
    "# Show the plot\n",
    "plt.tight_layout()\n",
    "plt.show()"
   ]
  },
  {
   "cell_type": "code",
   "execution_count": 180,
   "id": "d5829d27",
   "metadata": {},
   "outputs": [
    {
     "data": {
      "text/plain": [
       "<AxesSubplot:>"
      ]
     },
     "execution_count": 180,
     "metadata": {},
     "output_type": "execute_result"
    },
    {
     "data": {
      "image/png": "[encoded data removed]",
      "text/plain": [
       "<Figure size 432x288 with 1 Axes>"
      ]
     },
     "metadata": {
      "needs_background": "light"
     },
     "output_type": "display_data"
    }
   ],
   "source": [
    "sns.violinplot(data=large_series1, inner='quartile', scale='width')"
   ]
  },
  {
   "cell_type": "code",
   "execution_count": 179,
   "id": "6444e906",
   "metadata": {},
   "outputs": [
    {
     "data": {
      "text/plain": [
       "<AxesSubplot:>"
      ]
     },
     "execution_count": 179,
     "metadata": {},
     "output_type": "execute_result"
    },
    {
     "data": {
      "image/png": "[encoded data removed]",
      "text/plain": [
       "<Figure size 432x288 with 1 Axes>"
      ]
     },
     "metadata": {
      "needs_background": "light"
     },
     "output_type": "display_data"
    }
   ],
   "source": [
    "sns.violinplot(data=large_series2, inner='quartile', scale='width')\n"
   ]
  }
 ],
 "metadata": {
  "kernelspec": {
   "display_name": "Python 3 (ipykernel)",
   "language": "python",
   "name": "python3"
  },
  "language_info": {
   "codemirror_mode": {
    "name": "ipython",
    "version": 3
   },
   "file_extension": ".py",
   "mimetype": "text/x-python",
   "name": "python",
   "nbconvert_exporter": "python",
   "pygments_lexer": "ipython3",
   "version": "3.8.16"
  }
 },
 "nbformat": 4,
 "nbformat_minor": 5
}
