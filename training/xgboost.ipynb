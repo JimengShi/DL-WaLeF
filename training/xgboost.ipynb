{
 "cells": [
  {
   "cell_type": "code",
   "execution_count": 57,
   "id": "be51f760",
   "metadata": {},
   "outputs": [],
   "source": [
    "import matplotlib.pyplot as plt\n",
    "import pandas as pd\n",
    "import numpy as np\n",
    "import tensorflow as tf\n",
    "from tensorflow import keras\n",
    "from tensorflow.keras import layers\n",
    "from math import sqrt\n",
    "from sklearn.preprocessing import MinMaxScaler\n",
    "from sklearn.metrics import mean_squared_error\n",
    "from sklearn.metrics import mean_absolute_error\n",
    "from tensorflow.keras.optimizers import Adam\n",
    "from pandas import concat\n",
    "from pandas import read_csv\n",
    "from helper import series_to_supervised, stage_series_to_supervised\n",
    "from tensorflow.keras.callbacks import EarlyStopping\n",
    "from tensorflow.keras.callbacks import ModelCheckpoint\n",
    "import xgboost as xgb"
   ]
  },
  {
   "cell_type": "code",
   "execution_count": 58,
   "id": "f08f72ea",
   "metadata": {},
   "outputs": [],
   "source": [
    "import os\n",
    "os.environ['CUDA_VISIBLE_DEVICES'] = '0'"
   ]
  },
  {
   "cell_type": "markdown",
   "id": "aa9e09ca",
   "metadata": {},
   "source": [
    "### Dataset"
   ]
  },
  {
   "cell_type": "code",
   "execution_count": 59,
   "id": "e83cf65a",
   "metadata": {},
   "outputs": [
    {
     "data": {
      "text/html": [
       "<div>\n",
       "<style scoped>\n",
       "    .dataframe tbody tr th:only-of-type {\n",
       "        vertical-align: middle;\n",
       "    }\n",
       "\n",
       "    .dataframe tbody tr th {\n",
       "        vertical-align: top;\n",
       "    }\n",
       "\n",
       "    .dataframe thead th {\n",
       "        text-align: right;\n",
       "    }\n",
       "</style>\n",
       "<table border=\"1\" class=\"dataframe\">\n",
       "  <thead>\n",
       "    <tr style=\"text-align: right;\">\n",
       "      <th></th>\n",
       "      <th>WS_S1</th>\n",
       "      <th>WS_S4</th>\n",
       "      <th>FLOW_S25A</th>\n",
       "      <th>GATE_S25A</th>\n",
       "      <th>HWS_S25A</th>\n",
       "      <th>TWS_S25A</th>\n",
       "      <th>FLOW_S25B</th>\n",
       "      <th>GATE_S25B</th>\n",
       "      <th>GATE_S25B2</th>\n",
       "      <th>HWS_S25B</th>\n",
       "      <th>TWS_S25B</th>\n",
       "      <th>PUMP_S25B</th>\n",
       "      <th>FLOW_S26</th>\n",
       "      <th>GATE_S26_1</th>\n",
       "      <th>GATE_S26_2</th>\n",
       "      <th>HWS_S26</th>\n",
       "      <th>TWS_S26</th>\n",
       "      <th>PUMP_S26</th>\n",
       "      <th>MEAN_RAIN</th>\n",
       "    </tr>\n",
       "    <tr>\n",
       "      <th>Time</th>\n",
       "      <th></th>\n",
       "      <th></th>\n",
       "      <th></th>\n",
       "      <th></th>\n",
       "      <th></th>\n",
       "      <th></th>\n",
       "      <th></th>\n",
       "      <th></th>\n",
       "      <th></th>\n",
       "      <th></th>\n",
       "      <th></th>\n",
       "      <th></th>\n",
       "      <th></th>\n",
       "      <th></th>\n",
       "      <th></th>\n",
       "      <th></th>\n",
       "      <th></th>\n",
       "      <th></th>\n",
       "      <th></th>\n",
       "    </tr>\n",
       "  </thead>\n",
       "  <tbody>\n",
       "    <tr>\n",
       "      <th>1/1/10 00:00</th>\n",
       "      <td>0.33</td>\n",
       "      <td>0.34</td>\n",
       "      <td>0.0</td>\n",
       "      <td>0.0</td>\n",
       "      <td>2.17</td>\n",
       "      <td>0.49</td>\n",
       "      <td>0.0</td>\n",
       "      <td>0.0</td>\n",
       "      <td>0.0</td>\n",
       "      <td>2.84</td>\n",
       "      <td>0.58</td>\n",
       "      <td>0.0</td>\n",
       "      <td>0.00</td>\n",
       "      <td>0.0</td>\n",
       "      <td>0.00</td>\n",
       "      <td>2.78</td>\n",
       "      <td>0.505</td>\n",
       "      <td>0.0</td>\n",
       "      <td>0.0</td>\n",
       "    </tr>\n",
       "    <tr>\n",
       "      <th>1/1/10 01:00</th>\n",
       "      <td>-0.29</td>\n",
       "      <td>-0.28</td>\n",
       "      <td>0.0</td>\n",
       "      <td>0.0</td>\n",
       "      <td>2.17</td>\n",
       "      <td>0.02</td>\n",
       "      <td>0.0</td>\n",
       "      <td>0.0</td>\n",
       "      <td>0.0</td>\n",
       "      <td>2.84</td>\n",
       "      <td>-0.07</td>\n",
       "      <td>0.0</td>\n",
       "      <td>0.00</td>\n",
       "      <td>0.0</td>\n",
       "      <td>0.00</td>\n",
       "      <td>2.78</td>\n",
       "      <td>-0.110</td>\n",
       "      <td>0.0</td>\n",
       "      <td>0.0</td>\n",
       "    </tr>\n",
       "    <tr>\n",
       "      <th>1/1/10 02:00</th>\n",
       "      <td>-0.81</td>\n",
       "      <td>-0.73</td>\n",
       "      <td>0.0</td>\n",
       "      <td>0.0</td>\n",
       "      <td>2.17</td>\n",
       "      <td>-0.49</td>\n",
       "      <td>0.0</td>\n",
       "      <td>0.0</td>\n",
       "      <td>0.0</td>\n",
       "      <td>2.84</td>\n",
       "      <td>-0.62</td>\n",
       "      <td>0.0</td>\n",
       "      <td>0.00</td>\n",
       "      <td>0.0</td>\n",
       "      <td>0.00</td>\n",
       "      <td>2.79</td>\n",
       "      <td>-0.650</td>\n",
       "      <td>0.0</td>\n",
       "      <td>0.0</td>\n",
       "    </tr>\n",
       "    <tr>\n",
       "      <th>1/1/10 03:00</th>\n",
       "      <td>-0.98</td>\n",
       "      <td>-0.85</td>\n",
       "      <td>0.0</td>\n",
       "      <td>0.0</td>\n",
       "      <td>2.15</td>\n",
       "      <td>-0.75</td>\n",
       "      <td>0.0</td>\n",
       "      <td>0.0</td>\n",
       "      <td>0.0</td>\n",
       "      <td>2.83</td>\n",
       "      <td>-0.82</td>\n",
       "      <td>0.0</td>\n",
       "      <td>0.00</td>\n",
       "      <td>0.0</td>\n",
       "      <td>0.00</td>\n",
       "      <td>2.79</td>\n",
       "      <td>-0.850</td>\n",
       "      <td>0.0</td>\n",
       "      <td>0.0</td>\n",
       "    </tr>\n",
       "    <tr>\n",
       "      <th>1/1/10 04:00</th>\n",
       "      <td>-0.69</td>\n",
       "      <td>-0.49</td>\n",
       "      <td>0.0</td>\n",
       "      <td>0.0</td>\n",
       "      <td>2.13</td>\n",
       "      <td>-0.55</td>\n",
       "      <td>0.0</td>\n",
       "      <td>0.0</td>\n",
       "      <td>0.0</td>\n",
       "      <td>2.84</td>\n",
       "      <td>-0.53</td>\n",
       "      <td>0.0</td>\n",
       "      <td>0.00</td>\n",
       "      <td>0.0</td>\n",
       "      <td>0.00</td>\n",
       "      <td>2.79</td>\n",
       "      <td>-0.550</td>\n",
       "      <td>0.0</td>\n",
       "      <td>0.0</td>\n",
       "    </tr>\n",
       "    <tr>\n",
       "      <th>...</th>\n",
       "      <td>...</td>\n",
       "      <td>...</td>\n",
       "      <td>...</td>\n",
       "      <td>...</td>\n",
       "      <td>...</td>\n",
       "      <td>...</td>\n",
       "      <td>...</td>\n",
       "      <td>...</td>\n",
       "      <td>...</td>\n",
       "      <td>...</td>\n",
       "      <td>...</td>\n",
       "      <td>...</td>\n",
       "      <td>...</td>\n",
       "      <td>...</td>\n",
       "      <td>...</td>\n",
       "      <td>...</td>\n",
       "      <td>...</td>\n",
       "      <td>...</td>\n",
       "      <td>...</td>\n",
       "    </tr>\n",
       "    <tr>\n",
       "      <th>12/31/20 19:00</th>\n",
       "      <td>1.24</td>\n",
       "      <td>1.19</td>\n",
       "      <td>0.0</td>\n",
       "      <td>0.0</td>\n",
       "      <td>1.92</td>\n",
       "      <td>1.25</td>\n",
       "      <td>0.0</td>\n",
       "      <td>0.0</td>\n",
       "      <td>0.0</td>\n",
       "      <td>2.86</td>\n",
       "      <td>1.31</td>\n",
       "      <td>0.0</td>\n",
       "      <td>456.34</td>\n",
       "      <td>0.0</td>\n",
       "      <td>2.61</td>\n",
       "      <td>2.49</td>\n",
       "      <td>1.290</td>\n",
       "      <td>0.0</td>\n",
       "      <td>0.0</td>\n",
       "    </tr>\n",
       "    <tr>\n",
       "      <th>12/31/20 20:00</th>\n",
       "      <td>1.62</td>\n",
       "      <td>1.61</td>\n",
       "      <td>0.0</td>\n",
       "      <td>0.0</td>\n",
       "      <td>1.92</td>\n",
       "      <td>1.64</td>\n",
       "      <td>0.0</td>\n",
       "      <td>0.0</td>\n",
       "      <td>0.0</td>\n",
       "      <td>2.88</td>\n",
       "      <td>1.68</td>\n",
       "      <td>0.0</td>\n",
       "      <td>380.19</td>\n",
       "      <td>0.0</td>\n",
       "      <td>2.62</td>\n",
       "      <td>2.48</td>\n",
       "      <td>1.660</td>\n",
       "      <td>0.0</td>\n",
       "      <td>0.0</td>\n",
       "    </tr>\n",
       "    <tr>\n",
       "      <th>12/31/20 21:00</th>\n",
       "      <td>1.98</td>\n",
       "      <td>1.90</td>\n",
       "      <td>0.0</td>\n",
       "      <td>0.0</td>\n",
       "      <td>1.93</td>\n",
       "      <td>2.00</td>\n",
       "      <td>0.0</td>\n",
       "      <td>0.0</td>\n",
       "      <td>0.0</td>\n",
       "      <td>2.89</td>\n",
       "      <td>2.04</td>\n",
       "      <td>0.0</td>\n",
       "      <td>287.12</td>\n",
       "      <td>0.0</td>\n",
       "      <td>2.62</td>\n",
       "      <td>2.54</td>\n",
       "      <td>2.040</td>\n",
       "      <td>0.0</td>\n",
       "      <td>0.0</td>\n",
       "    </tr>\n",
       "    <tr>\n",
       "      <th>12/31/20 22:00</th>\n",
       "      <td>2.13</td>\n",
       "      <td>2.03</td>\n",
       "      <td>0.0</td>\n",
       "      <td>0.0</td>\n",
       "      <td>1.94</td>\n",
       "      <td>2.13</td>\n",
       "      <td>0.0</td>\n",
       "      <td>0.0</td>\n",
       "      <td>0.0</td>\n",
       "      <td>2.90</td>\n",
       "      <td>2.21</td>\n",
       "      <td>0.0</td>\n",
       "      <td>253.27</td>\n",
       "      <td>0.0</td>\n",
       "      <td>2.62</td>\n",
       "      <td>2.58</td>\n",
       "      <td>2.180</td>\n",
       "      <td>0.0</td>\n",
       "      <td>0.0</td>\n",
       "    </tr>\n",
       "    <tr>\n",
       "      <th>12/31/20 23:00</th>\n",
       "      <td>1.96</td>\n",
       "      <td>1.81</td>\n",
       "      <td>0.0</td>\n",
       "      <td>0.0</td>\n",
       "      <td>1.96</td>\n",
       "      <td>1.98</td>\n",
       "      <td>0.0</td>\n",
       "      <td>0.0</td>\n",
       "      <td>0.0</td>\n",
       "      <td>2.91</td>\n",
       "      <td>2.06</td>\n",
       "      <td>0.0</td>\n",
       "      <td>294.00</td>\n",
       "      <td>0.0</td>\n",
       "      <td>2.62</td>\n",
       "      <td>2.59</td>\n",
       "      <td>2.050</td>\n",
       "      <td>0.0</td>\n",
       "      <td>0.0</td>\n",
       "    </tr>\n",
       "  </tbody>\n",
       "</table>\n",
       "<p>96432 rows × 19 columns</p>\n",
       "</div>"
      ],
      "text/plain": [
       "                WS_S1  WS_S4  FLOW_S25A  GATE_S25A  HWS_S25A  TWS_S25A  \\\n",
       "Time                                                                     \n",
       "1/1/10 00:00     0.33   0.34        0.0        0.0      2.17      0.49   \n",
       "1/1/10 01:00    -0.29  -0.28        0.0        0.0      2.17      0.02   \n",
       "1/1/10 02:00    -0.81  -0.73        0.0        0.0      2.17     -0.49   \n",
       "1/1/10 03:00    -0.98  -0.85        0.0        0.0      2.15     -0.75   \n",
       "1/1/10 04:00    -0.69  -0.49        0.0        0.0      2.13     -0.55   \n",
       "...               ...    ...        ...        ...       ...       ...   \n",
       "12/31/20 19:00   1.24   1.19        0.0        0.0      1.92      1.25   \n",
       "12/31/20 20:00   1.62   1.61        0.0        0.0      1.92      1.64   \n",
       "12/31/20 21:00   1.98   1.90        0.0        0.0      1.93      2.00   \n",
       "12/31/20 22:00   2.13   2.03        0.0        0.0      1.94      2.13   \n",
       "12/31/20 23:00   1.96   1.81        0.0        0.0      1.96      1.98   \n",
       "\n",
       "                FLOW_S25B  GATE_S25B  GATE_S25B2  HWS_S25B  TWS_S25B  \\\n",
       "Time                                                                   \n",
       "1/1/10 00:00          0.0        0.0         0.0      2.84      0.58   \n",
       "1/1/10 01:00          0.0        0.0         0.0      2.84     -0.07   \n",
       "1/1/10 02:00          0.0        0.0         0.0      2.84     -0.62   \n",
       "1/1/10 03:00          0.0        0.0         0.0      2.83     -0.82   \n",
       "1/1/10 04:00          0.0        0.0         0.0      2.84     -0.53   \n",
       "...                   ...        ...         ...       ...       ...   \n",
       "12/31/20 19:00        0.0        0.0         0.0      2.86      1.31   \n",
       "12/31/20 20:00        0.0        0.0         0.0      2.88      1.68   \n",
       "12/31/20 21:00        0.0        0.0         0.0      2.89      2.04   \n",
       "12/31/20 22:00        0.0        0.0         0.0      2.90      2.21   \n",
       "12/31/20 23:00        0.0        0.0         0.0      2.91      2.06   \n",
       "\n",
       "                PUMP_S25B  FLOW_S26  GATE_S26_1  GATE_S26_2  HWS_S26  TWS_S26  \\\n",
       "Time                                                                            \n",
       "1/1/10 00:00          0.0      0.00         0.0        0.00     2.78    0.505   \n",
       "1/1/10 01:00          0.0      0.00         0.0        0.00     2.78   -0.110   \n",
       "1/1/10 02:00          0.0      0.00         0.0        0.00     2.79   -0.650   \n",
       "1/1/10 03:00          0.0      0.00         0.0        0.00     2.79   -0.850   \n",
       "1/1/10 04:00          0.0      0.00         0.0        0.00     2.79   -0.550   \n",
       "...                   ...       ...         ...         ...      ...      ...   \n",
       "12/31/20 19:00        0.0    456.34         0.0        2.61     2.49    1.290   \n",
       "12/31/20 20:00        0.0    380.19         0.0        2.62     2.48    1.660   \n",
       "12/31/20 21:00        0.0    287.12         0.0        2.62     2.54    2.040   \n",
       "12/31/20 22:00        0.0    253.27         0.0        2.62     2.58    2.180   \n",
       "12/31/20 23:00        0.0    294.00         0.0        2.62     2.59    2.050   \n",
       "\n",
       "                PUMP_S26  MEAN_RAIN  \n",
       "Time                                 \n",
       "1/1/10 00:00         0.0        0.0  \n",
       "1/1/10 01:00         0.0        0.0  \n",
       "1/1/10 02:00         0.0        0.0  \n",
       "1/1/10 03:00         0.0        0.0  \n",
       "1/1/10 04:00         0.0        0.0  \n",
       "...                  ...        ...  \n",
       "12/31/20 19:00       0.0        0.0  \n",
       "12/31/20 20:00       0.0        0.0  \n",
       "12/31/20 21:00       0.0        0.0  \n",
       "12/31/20 22:00       0.0        0.0  \n",
       "12/31/20 23:00       0.0        0.0  \n",
       "\n",
       "[96432 rows x 19 columns]"
      ]
     },
     "execution_count": 59,
     "metadata": {},
     "output_type": "execute_result"
    }
   ],
   "source": [
    "dataset = pd.read_csv('../data/Merged-update_hourly.csv', index_col=0)\n",
    "dataset.fillna(0, inplace=True)\n",
    "data = dataset[:]\n",
    "data"
   ]
  },
  {
   "cell_type": "markdown",
   "id": "daa01065",
   "metadata": {},
   "source": [
    "### Dataset Information"
   ]
  },
  {
   "cell_type": "code",
   "execution_count": 60,
   "id": "fa07c356",
   "metadata": {},
   "outputs": [
    {
     "name": "stdout",
     "output_type": "stream",
     "text": [
      "['WS_S1', 'WS_S4', 'FLOW_S25A', 'GATE_S25A', 'HWS_S25A', 'TWS_S25A', 'FLOW_S25B', 'GATE_S25B', 'GATE_S25B2', 'HWS_S25B', 'TWS_S25B', 'PUMP_S25B', 'FLOW_S26', 'GATE_S26_1', 'GATE_S26_2', 'HWS_S26', 'TWS_S26', 'PUMP_S26', 'MEAN_RAIN']\n"
     ]
    }
   ],
   "source": [
    "print(list(data.columns))"
   ]
  },
  {
   "cell_type": "markdown",
   "id": "a944f104",
   "metadata": {},
   "source": [
    "### Pre-processing"
   ]
  },
  {
   "cell_type": "code",
   "execution_count": 61,
   "id": "5e7dec9e",
   "metadata": {},
   "outputs": [],
   "source": [
    "# specify the number of lag hours\n",
    "n_hours = 24*7\n",
    "K = 24"
   ]
  },
  {
   "cell_type": "markdown",
   "id": "0a6c3979",
   "metadata": {},
   "source": [
    "#### Stage"
   ]
  },
  {
   "cell_type": "code",
   "execution_count": 62,
   "id": "c0132993",
   "metadata": {},
   "outputs": [
    {
     "name": "stdout",
     "output_type": "stream",
     "text": [
      "stages.shape: (96432, 4)\n",
      "stages_supervised.shape: (96241, 768)\n"
     ]
    }
   ],
   "source": [
    "# Pre-processing\n",
    "# Stage --> 8 stages\n",
    "stages = dataset[['WS_S1', 'TWS_S25A', 'TWS_S25B', 'TWS_S26']]\n",
    "print(\"stages.shape:\", stages.shape)\n",
    "\n",
    "stages_supervised = series_to_supervised(stages, n_hours, K)\n",
    "print(\"stages_supervised.shape:\", stages_supervised.shape)"
   ]
  },
  {
   "cell_type": "code",
   "execution_count": 63,
   "id": "84ef0b5e",
   "metadata": {},
   "outputs": [],
   "source": [
    "# stages_supervised"
   ]
  },
  {
   "cell_type": "markdown",
   "id": "24c24afc",
   "metadata": {},
   "source": [
    "#### Non-stage"
   ]
  },
  {
   "cell_type": "code",
   "execution_count": 64,
   "id": "b23e15b3",
   "metadata": {},
   "outputs": [
    {
     "name": "stdout",
     "output_type": "stream",
     "text": [
      "non_stages.shape: (96432, 7)\n",
      "non_stages_supervised.shape: (96265, 1176)\n"
     ]
    }
   ],
   "source": [
    "# non_stages = data[['WS_S4', 'FLOW_S25A', 'GATE_S25A', 'FLOW_S25B', 'GATE_S25B', 'FLOW_S26', 'GATE_S26', 'PUMP_S26', 'PUMP_S25B', 'MEAN_RAIN']]\n",
    "non_stages = data[['WS_S4', 'FLOW_S25A', 'FLOW_S25B', 'FLOW_S26', 'PUMP_S26', 'PUMP_S25B', 'MEAN_RAIN']]\n",
    "print(\"non_stages.shape:\", non_stages.shape)\n",
    "\n",
    "non_stages_supervised = series_to_supervised(non_stages, n_hours-1, 1)\n",
    "print(\"non_stages_supervised.shape:\", non_stages_supervised.shape)"
   ]
  },
  {
   "cell_type": "code",
   "execution_count": 65,
   "id": "db65a767",
   "metadata": {},
   "outputs": [],
   "source": [
    "# non_stages_supervised"
   ]
  },
  {
   "cell_type": "code",
   "execution_count": 66,
   "id": "8d8d030a",
   "metadata": {},
   "outputs": [
    {
     "name": "stdout",
     "output_type": "stream",
     "text": [
      "non_stages_supervised_cut.shape: (96241, 1176)\n"
     ]
    }
   ],
   "source": [
    "non_stages_supervised_cut = non_stages_supervised.iloc[24:, :]\n",
    "print(\"non_stages_supervised_cut.shape:\", non_stages_supervised_cut.shape)"
   ]
  },
  {
   "cell_type": "code",
   "execution_count": 67,
   "id": "ab19cb88",
   "metadata": {},
   "outputs": [],
   "source": [
    "# non_stages_supervised_cut"
   ]
  },
  {
   "cell_type": "markdown",
   "id": "686b923b",
   "metadata": {},
   "source": [
    "### N_out, N_in, K"
   ]
  },
  {
   "cell_type": "code",
   "execution_count": 68,
   "id": "bf17dd85",
   "metadata": {},
   "outputs": [],
   "source": [
    "# specify the number of lag hours\n",
    "# n_hours = 72\n",
    "n_features = stages.shape[1] + non_stages.shape[1]   # 1 rainfall + FGate_S25A + FGate_S25B + FGate_S26 + 8WS + PUMP_S26\n",
    "# K = 12"
   ]
  },
  {
   "cell_type": "code",
   "execution_count": 69,
   "id": "aa6a7e19",
   "metadata": {},
   "outputs": [
    {
     "data": {
      "text/plain": [
       "11"
      ]
     },
     "execution_count": 69,
     "metadata": {},
     "output_type": "execute_result"
    }
   ],
   "source": [
    "n_features"
   ]
  },
  {
   "cell_type": "markdown",
   "id": "11c32a7b",
   "metadata": {},
   "source": [
    "### Concatenation"
   ]
  },
  {
   "cell_type": "code",
   "execution_count": 70,
   "id": "c3693cdb",
   "metadata": {},
   "outputs": [],
   "source": [
    "# stages_head_supervised.reset_index(drop=True, inplace=True)\n",
    "non_stages_supervised_cut.reset_index(drop=True, inplace=True)\n",
    "stages_supervised.reset_index(drop=True, inplace=True)\n",
    "\n",
    "all_data = concat([\n",
    "                   non_stages_supervised_cut.iloc[:, :],\n",
    "#                    stages_head_supervised.iloc[:, :-3*K],\n",
    "                   stages_supervised.iloc[:, :]],\n",
    "                   axis=1)"
   ]
  },
  {
   "cell_type": "code",
   "execution_count": 71,
   "id": "9ec3168a",
   "metadata": {},
   "outputs": [
    {
     "name": "stdout",
     "output_type": "stream",
     "text": [
      "all_data.shape: (96241, 1944)\n"
     ]
    }
   ],
   "source": [
    "# print(\"all_data\", all_data)\n",
    "print(\"all_data.shape:\", all_data.shape)"
   ]
  },
  {
   "cell_type": "code",
   "execution_count": 72,
   "id": "ebc3d320",
   "metadata": {},
   "outputs": [],
   "source": [
    "# all_concat = pd.DataFrame(all_data)\n",
    "# all_concat"
   ]
  },
  {
   "cell_type": "code",
   "execution_count": 73,
   "id": "464c0442",
   "metadata": {},
   "outputs": [],
   "source": [
    "# all_concat.iloc[:, -12:]"
   ]
  },
  {
   "cell_type": "markdown",
   "id": "1af90a31",
   "metadata": {},
   "source": [
    "### Train & Test set"
   ]
  },
  {
   "cell_type": "code",
   "execution_count": 74,
   "id": "ab69baf6",
   "metadata": {},
   "outputs": [
    {
     "name": "stdout",
     "output_type": "stream",
     "text": [
      "n_train_hours: 76992\n"
     ]
    }
   ],
   "source": [
    "all_data = all_data.values\n",
    "n_train_hours = int(len(all_data)*0.8)\n",
    "print(\"n_train_hours:\", n_train_hours)\n",
    "\n",
    "\n",
    "train = all_data[:n_train_hours, :]    # 0 column is the rainfall to measure heavy/medium/light\n",
    "test = all_data[n_train_hours:, :]"
   ]
  },
  {
   "cell_type": "code",
   "execution_count": 75,
   "id": "fbd933d6",
   "metadata": {},
   "outputs": [
    {
     "data": {
      "text/plain": [
       "(76992, 1944)"
      ]
     },
     "execution_count": 75,
     "metadata": {},
     "output_type": "execute_result"
    }
   ],
   "source": [
    "train.shape"
   ]
  },
  {
   "cell_type": "code",
   "execution_count": 76,
   "id": "215608c4",
   "metadata": {},
   "outputs": [],
   "source": [
    "# test set (10/16/2018 - 12/30/3020)\n",
    "# data.iloc[462368:, :]"
   ]
  },
  {
   "cell_type": "markdown",
   "id": "1b058870",
   "metadata": {},
   "source": [
    "### Normalization"
   ]
  },
  {
   "cell_type": "code",
   "execution_count": 77,
   "id": "9c7730e2",
   "metadata": {},
   "outputs": [
    {
     "data": {
      "text/plain": [
       "168"
      ]
     },
     "execution_count": 77,
     "metadata": {},
     "output_type": "execute_result"
    }
   ],
   "source": [
    "n_hours"
   ]
  },
  {
   "cell_type": "code",
   "execution_count": 78,
   "id": "ca909f46",
   "metadata": {},
   "outputs": [
    {
     "data": {
      "text/plain": [
       "11"
      ]
     },
     "execution_count": 78,
     "metadata": {},
     "output_type": "execute_result"
    }
   ],
   "source": [
    "n_features"
   ]
  },
  {
   "cell_type": "code",
   "execution_count": 79,
   "id": "d835fc64",
   "metadata": {},
   "outputs": [
    {
     "name": "stdout",
     "output_type": "stream",
     "text": [
      "train_X.shape, train_y.shape, test_X.shape, test_y.shape (76992, 1848) (76992, 96) (19249, 1848) (19249, 96)\n"
     ]
    }
   ],
   "source": [
    "# split into input and outputs\n",
    "n_obs = n_hours * n_features\n",
    "train_X, train_y = train[:, :n_obs], train[:, -stages.shape[1]*K:]\n",
    "test_X, test_y = test[:, :n_obs], test[:, -stages.shape[1]*K:]\n",
    "print(\"train_X.shape, train_y.shape, test_X.shape, test_y.shape\", train_X.shape, train_y.shape, test_X.shape, test_y.shape)\n",
    "\n",
    "\n",
    "# normalize features\n",
    "scaler = MinMaxScaler(feature_range=(0, 1))\n",
    "train_X = scaler.fit_transform(train_X)\n",
    "train_y = scaler.fit_transform(train_y)\n",
    "test_X = scaler.fit_transform(test_X)\n",
    "test_y = scaler.fit_transform(test_y)"
   ]
  },
  {
   "cell_type": "markdown",
   "id": "2b54bda3",
   "metadata": {},
   "source": [
    "### Model"
   ]
  },
  {
   "cell_type": "code",
   "execution_count": 88,
   "id": "a0cef2e3",
   "metadata": {},
   "outputs": [],
   "source": [
    "import time"
   ]
  },
  {
   "cell_type": "code",
   "execution_count": 111,
   "id": "1d0a99f4",
   "metadata": {},
   "outputs": [
    {
     "name": "stdout",
     "output_type": "stream",
     "text": [
      "GPU Training Time: 1209.1423275470734 seconds\n"
     ]
    }
   ],
   "source": [
    "# Initialize the XGBoost model\n",
    "# model = xgb.XGBRegressor(objective='reg:squarederror', \n",
    "#                          n_estimators=100, \n",
    "#                          learning_rate=0.01, \n",
    "#                          max_depth=3, \n",
    "#                          verbosity=1,   #Verbose logging\n",
    "#                          device=\"cuda\"  #Use GPU for training\n",
    "#                         )\n",
    "\n",
    "model = xgb.XGBRegressor(objective='reg:squarederror', \n",
    "                         n_estimators=200, \n",
    "                         learning_rate=0.01, \n",
    "                         max_depth=6, \n",
    "                         verbosity=1,   #Verbose logging\n",
    "                         device=\"cuda\"  #Use GPU for training\n",
    "                        )\n",
    "\n",
    "\n",
    "start = time.time()\n",
    "\n",
    "# Train the model\n",
    "model.fit(train_X, train_y, verbose=True)\n",
    "\n",
    "print(\"GPU Training Time: %s seconds\" % (str(time.time() - start)))"
   ]
  },
  {
   "cell_type": "markdown",
   "id": "0afabc2a",
   "metadata": {},
   "source": [
    "### Prediction"
   ]
  },
  {
   "cell_type": "code",
   "execution_count": 112,
   "id": "729b281c",
   "metadata": {},
   "outputs": [
    {
     "name": "stdout",
     "output_type": "stream",
     "text": [
      "inv_y.shape, inv_yhat.shape (19249, 96) (19249, 96)\n"
     ]
    }
   ],
   "source": [
    "# Make predictions\n",
    "yhat = model.predict(test_X)\n",
    "inv_yhat = scaler.inverse_transform(yhat)\n",
    "inv_y = scaler.inverse_transform(test_y)\n",
    "\n",
    "inv_yhat = pd.DataFrame(inv_yhat)\n",
    "inv_y = pd.DataFrame(inv_y)\n",
    "print(\"inv_y.shape, inv_yhat.shape\", inv_y.shape, inv_yhat.shape)"
   ]
  },
  {
   "cell_type": "code",
   "execution_count": 113,
   "id": "b6ad21b1",
   "metadata": {},
   "outputs": [
    {
     "name": "stdout",
     "output_type": "stream",
     "text": [
      "MAE: 0.185 \n",
      "RMSE: 0.268\n"
     ]
    }
   ],
   "source": [
    "# Evaluate the model\n",
    "mae = mean_absolute_error(inv_yhat, inv_y)\n",
    "rmse = np.sqrt(mean_squared_error(inv_yhat, inv_y))\n",
    "print(f\"MAE: {mae:.3f} \\nRMSE: {rmse:.3f}\")"
   ]
  },
  {
   "cell_type": "code",
   "execution_count": 114,
   "id": "a3bb1d47",
   "metadata": {},
   "outputs": [],
   "source": [
    "# error = inv_yhat - inv_y\n",
    "# error_19_20 = error.iloc[-17544:, :]\n",
    "# print(error_19_20.shape)"
   ]
  },
  {
   "cell_type": "code",
   "execution_count": 115,
   "id": "c213028f",
   "metadata": {},
   "outputs": [],
   "source": [
    "inv_yhat.to_csv('../output/inv_yhat_xgboost.csv')\n",
    "inv_y.to_csv('../output/inv_y_xgboost.csv')"
   ]
  },
  {
   "cell_type": "code",
   "execution_count": null,
   "id": "210bc8dd",
   "metadata": {},
   "outputs": [],
   "source": []
  }
 ],
 "metadata": {
  "kernelspec": {
   "display_name": "Python 3 (ipykernel)",
   "language": "python",
   "name": "python3"
  },
  "language_info": {
   "codemirror_mode": {
    "name": "ipython",
    "version": 3
   },
   "file_extension": ".py",
   "mimetype": "text/x-python",
   "name": "python",
   "nbconvert_exporter": "python",
   "pygments_lexer": "ipython3",
   "version": "3.8.16"
  },
  "latex_envs": {
   "LaTeX_envs_menu_present": true,
   "autoclose": false,
   "autocomplete": true,
   "bibliofile": "biblio.bib",
   "cite_by": "apalike",
   "current_citInitial": 1,
   "eqLabelWithNumbers": true,
   "eqNumInitial": 1,
   "hotkeys": {
    "equation": "Ctrl-E",
    "itemize": "Ctrl-I"
   },
   "labels_anchors": false,
   "latex_user_defs": false,
   "report_style_numbering": false,
   "user_envs_cfg": false
  },
  "toc": {
   "base_numbering": 1,
   "nav_menu": {},
   "number_sections": true,
   "sideBar": true,
   "skip_h1_title": false,
   "title_cell": "Table of Contents",
   "title_sidebar": "Contents",
   "toc_cell": false,
   "toc_position": {},
   "toc_section_display": true,
   "toc_window_display": true
  }
 },
 "nbformat": 4,
 "nbformat_minor": 5
}
